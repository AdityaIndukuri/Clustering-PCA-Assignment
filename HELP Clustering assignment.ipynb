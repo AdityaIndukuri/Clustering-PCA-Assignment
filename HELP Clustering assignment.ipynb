{
 "cells": [
  {
   "cell_type": "code",
   "execution_count": 1,
   "metadata": {},
   "outputs": [],
   "source": [
    "# Supress Warnings\n",
    "\n",
    "import warnings\n",
    "warnings.filterwarnings('ignore')"
   ]
  },
  {
   "cell_type": "code",
   "execution_count": 2,
   "metadata": {},
   "outputs": [],
   "source": [
    "# Import the numpy,pandas & visualization packages\n",
    "\n",
    "import numpy as np\n",
    "import pandas as pd\n",
    "import matplotlib.pyplot as plt\n",
    "import seaborn as sns"
   ]
  },
  {
   "cell_type": "code",
   "execution_count": 3,
   "metadata": {},
   "outputs": [],
   "source": [
    "# Reading data\n",
    "help = pd.read_csv(\"C:/Users/Aditya/Documents/Assignment/Clustering/Country-data.csv\")"
   ]
  },
  {
   "cell_type": "code",
   "execution_count": 4,
   "metadata": {},
   "outputs": [
    {
     "data": {
      "text/plain": [
       "(167, 10)"
      ]
     },
     "execution_count": 4,
     "metadata": {},
     "output_type": "execute_result"
    }
   ],
   "source": [
    "#To know no.of rows & columns in a dataframe\n",
    "help.shape"
   ]
  },
  {
   "cell_type": "code",
   "execution_count": 5,
   "metadata": {},
   "outputs": [
    {
     "data": {
      "text/html": [
       "<div>\n",
       "<style scoped>\n",
       "    .dataframe tbody tr th:only-of-type {\n",
       "        vertical-align: middle;\n",
       "    }\n",
       "\n",
       "    .dataframe tbody tr th {\n",
       "        vertical-align: top;\n",
       "    }\n",
       "\n",
       "    .dataframe thead th {\n",
       "        text-align: right;\n",
       "    }\n",
       "</style>\n",
       "<table border=\"1\" class=\"dataframe\">\n",
       "  <thead>\n",
       "    <tr style=\"text-align: right;\">\n",
       "      <th></th>\n",
       "      <th>country</th>\n",
       "      <th>child_mort</th>\n",
       "      <th>exports</th>\n",
       "      <th>health</th>\n",
       "      <th>imports</th>\n",
       "      <th>income</th>\n",
       "      <th>inflation</th>\n",
       "      <th>life_expec</th>\n",
       "      <th>total_fer</th>\n",
       "      <th>gdpp</th>\n",
       "    </tr>\n",
       "  </thead>\n",
       "  <tbody>\n",
       "    <tr>\n",
       "      <th>0</th>\n",
       "      <td>Afghanistan</td>\n",
       "      <td>90.2</td>\n",
       "      <td>10.0</td>\n",
       "      <td>7.58</td>\n",
       "      <td>44.9</td>\n",
       "      <td>1610</td>\n",
       "      <td>9.44</td>\n",
       "      <td>56.2</td>\n",
       "      <td>5.82</td>\n",
       "      <td>553</td>\n",
       "    </tr>\n",
       "    <tr>\n",
       "      <th>1</th>\n",
       "      <td>Albania</td>\n",
       "      <td>16.6</td>\n",
       "      <td>28.0</td>\n",
       "      <td>6.55</td>\n",
       "      <td>48.6</td>\n",
       "      <td>9930</td>\n",
       "      <td>4.49</td>\n",
       "      <td>76.3</td>\n",
       "      <td>1.65</td>\n",
       "      <td>4090</td>\n",
       "    </tr>\n",
       "    <tr>\n",
       "      <th>2</th>\n",
       "      <td>Algeria</td>\n",
       "      <td>27.3</td>\n",
       "      <td>38.4</td>\n",
       "      <td>4.17</td>\n",
       "      <td>31.4</td>\n",
       "      <td>12900</td>\n",
       "      <td>16.10</td>\n",
       "      <td>76.5</td>\n",
       "      <td>2.89</td>\n",
       "      <td>4460</td>\n",
       "    </tr>\n",
       "    <tr>\n",
       "      <th>3</th>\n",
       "      <td>Angola</td>\n",
       "      <td>119.0</td>\n",
       "      <td>62.3</td>\n",
       "      <td>2.85</td>\n",
       "      <td>42.9</td>\n",
       "      <td>5900</td>\n",
       "      <td>22.40</td>\n",
       "      <td>60.1</td>\n",
       "      <td>6.16</td>\n",
       "      <td>3530</td>\n",
       "    </tr>\n",
       "    <tr>\n",
       "      <th>4</th>\n",
       "      <td>Antigua and Barbuda</td>\n",
       "      <td>10.3</td>\n",
       "      <td>45.5</td>\n",
       "      <td>6.03</td>\n",
       "      <td>58.9</td>\n",
       "      <td>19100</td>\n",
       "      <td>1.44</td>\n",
       "      <td>76.8</td>\n",
       "      <td>2.13</td>\n",
       "      <td>12200</td>\n",
       "    </tr>\n",
       "  </tbody>\n",
       "</table>\n",
       "</div>"
      ],
      "text/plain": [
       "               country  child_mort  exports  health  imports  income  \\\n",
       "0          Afghanistan        90.2     10.0    7.58     44.9    1610   \n",
       "1              Albania        16.6     28.0    6.55     48.6    9930   \n",
       "2              Algeria        27.3     38.4    4.17     31.4   12900   \n",
       "3               Angola       119.0     62.3    2.85     42.9    5900   \n",
       "4  Antigua and Barbuda        10.3     45.5    6.03     58.9   19100   \n",
       "\n",
       "   inflation  life_expec  total_fer   gdpp  \n",
       "0       9.44        56.2       5.82    553  \n",
       "1       4.49        76.3       1.65   4090  \n",
       "2      16.10        76.5       2.89   4460  \n",
       "3      22.40        60.1       6.16   3530  \n",
       "4       1.44        76.8       2.13  12200  "
      ]
     },
     "execution_count": 5,
     "metadata": {},
     "output_type": "execute_result"
    }
   ],
   "source": [
    "#Verifying head of dataframe\n",
    "help.head()"
   ]
  },
  {
   "cell_type": "code",
   "execution_count": 6,
   "metadata": {},
   "outputs": [
    {
     "data": {
      "text/plain": [
       "167"
      ]
     },
     "execution_count": 6,
     "metadata": {},
     "output_type": "execute_result"
    }
   ],
   "source": [
    "#Finding how many unique countries are present in dataset. \n",
    "unique = help['country'].unique()\n",
    "len(unique)\n",
    "\n",
    "#It is observed there are 167 unique countries which means there are no duplicates"
   ]
  },
  {
   "cell_type": "code",
   "execution_count": 7,
   "metadata": {},
   "outputs": [
    {
     "name": "stdout",
     "output_type": "stream",
     "text": [
      "<class 'pandas.core.frame.DataFrame'>\n",
      "RangeIndex: 167 entries, 0 to 166\n",
      "Data columns (total 10 columns):\n",
      "country       167 non-null object\n",
      "child_mort    167 non-null float64\n",
      "exports       167 non-null float64\n",
      "health        167 non-null float64\n",
      "imports       167 non-null float64\n",
      "income        167 non-null int64\n",
      "inflation     167 non-null float64\n",
      "life_expec    167 non-null float64\n",
      "total_fer     167 non-null float64\n",
      "gdpp          167 non-null int64\n",
      "dtypes: float64(7), int64(2), object(1)\n",
      "memory usage: 13.1+ KB\n"
     ]
    }
   ],
   "source": [
    "#Checking info on dataset\n",
    "help.info()"
   ]
  },
  {
   "cell_type": "markdown",
   "metadata": {},
   "source": [
    "#### Checking for Missing Values"
   ]
  },
  {
   "cell_type": "code",
   "execution_count": 8,
   "metadata": {},
   "outputs": [
    {
     "data": {
      "text/plain": [
       "country       0.0\n",
       "child_mort    0.0\n",
       "exports       0.0\n",
       "health        0.0\n",
       "imports       0.0\n",
       "income        0.0\n",
       "inflation     0.0\n",
       "life_expec    0.0\n",
       "total_fer     0.0\n",
       "gdpp          0.0\n",
       "dtype: float64"
      ]
     },
     "execution_count": 8,
     "metadata": {},
     "output_type": "execute_result"
    }
   ],
   "source": [
    "# Checking the percentage of missing values\n",
    "round(100*(help.isnull().sum()/len(help.index)), 2)"
   ]
  },
  {
   "cell_type": "code",
   "execution_count": 9,
   "metadata": {},
   "outputs": [
    {
     "data": {
      "text/html": [
       "<div>\n",
       "<style scoped>\n",
       "    .dataframe tbody tr th:only-of-type {\n",
       "        vertical-align: middle;\n",
       "    }\n",
       "\n",
       "    .dataframe tbody tr th {\n",
       "        vertical-align: top;\n",
       "    }\n",
       "\n",
       "    .dataframe thead th {\n",
       "        text-align: right;\n",
       "    }\n",
       "</style>\n",
       "<table border=\"1\" class=\"dataframe\">\n",
       "  <thead>\n",
       "    <tr style=\"text-align: right;\">\n",
       "      <th></th>\n",
       "      <th>child_mort</th>\n",
       "      <th>exports</th>\n",
       "      <th>health</th>\n",
       "      <th>imports</th>\n",
       "      <th>income</th>\n",
       "      <th>inflation</th>\n",
       "      <th>life_expec</th>\n",
       "      <th>total_fer</th>\n",
       "      <th>gdpp</th>\n",
       "    </tr>\n",
       "  </thead>\n",
       "  <tbody>\n",
       "    <tr>\n",
       "      <th>count</th>\n",
       "      <td>167.000000</td>\n",
       "      <td>167.000000</td>\n",
       "      <td>167.000000</td>\n",
       "      <td>167.000000</td>\n",
       "      <td>167.000000</td>\n",
       "      <td>167.000000</td>\n",
       "      <td>167.000000</td>\n",
       "      <td>167.000000</td>\n",
       "      <td>167.000000</td>\n",
       "    </tr>\n",
       "    <tr>\n",
       "      <th>mean</th>\n",
       "      <td>38.270060</td>\n",
       "      <td>41.108976</td>\n",
       "      <td>6.815689</td>\n",
       "      <td>46.890215</td>\n",
       "      <td>17144.688623</td>\n",
       "      <td>7.781832</td>\n",
       "      <td>70.555689</td>\n",
       "      <td>2.947964</td>\n",
       "      <td>12964.155689</td>\n",
       "    </tr>\n",
       "    <tr>\n",
       "      <th>std</th>\n",
       "      <td>40.328931</td>\n",
       "      <td>27.412010</td>\n",
       "      <td>2.746837</td>\n",
       "      <td>24.209589</td>\n",
       "      <td>19278.067698</td>\n",
       "      <td>10.570704</td>\n",
       "      <td>8.893172</td>\n",
       "      <td>1.513848</td>\n",
       "      <td>18328.704809</td>\n",
       "    </tr>\n",
       "    <tr>\n",
       "      <th>min</th>\n",
       "      <td>2.600000</td>\n",
       "      <td>0.109000</td>\n",
       "      <td>1.810000</td>\n",
       "      <td>0.065900</td>\n",
       "      <td>609.000000</td>\n",
       "      <td>-4.210000</td>\n",
       "      <td>32.100000</td>\n",
       "      <td>1.150000</td>\n",
       "      <td>231.000000</td>\n",
       "    </tr>\n",
       "    <tr>\n",
       "      <th>25%</th>\n",
       "      <td>8.250000</td>\n",
       "      <td>23.800000</td>\n",
       "      <td>4.920000</td>\n",
       "      <td>30.200000</td>\n",
       "      <td>3355.000000</td>\n",
       "      <td>1.810000</td>\n",
       "      <td>65.300000</td>\n",
       "      <td>1.795000</td>\n",
       "      <td>1330.000000</td>\n",
       "    </tr>\n",
       "    <tr>\n",
       "      <th>50%</th>\n",
       "      <td>19.300000</td>\n",
       "      <td>35.000000</td>\n",
       "      <td>6.320000</td>\n",
       "      <td>43.300000</td>\n",
       "      <td>9960.000000</td>\n",
       "      <td>5.390000</td>\n",
       "      <td>73.100000</td>\n",
       "      <td>2.410000</td>\n",
       "      <td>4660.000000</td>\n",
       "    </tr>\n",
       "    <tr>\n",
       "      <th>75%</th>\n",
       "      <td>62.100000</td>\n",
       "      <td>51.350000</td>\n",
       "      <td>8.600000</td>\n",
       "      <td>58.750000</td>\n",
       "      <td>22800.000000</td>\n",
       "      <td>10.750000</td>\n",
       "      <td>76.800000</td>\n",
       "      <td>3.880000</td>\n",
       "      <td>14050.000000</td>\n",
       "    </tr>\n",
       "    <tr>\n",
       "      <th>max</th>\n",
       "      <td>208.000000</td>\n",
       "      <td>200.000000</td>\n",
       "      <td>17.900000</td>\n",
       "      <td>174.000000</td>\n",
       "      <td>125000.000000</td>\n",
       "      <td>104.000000</td>\n",
       "      <td>82.800000</td>\n",
       "      <td>7.490000</td>\n",
       "      <td>105000.000000</td>\n",
       "    </tr>\n",
       "  </tbody>\n",
       "</table>\n",
       "</div>"
      ],
      "text/plain": [
       "       child_mort     exports      health     imports         income  \\\n",
       "count  167.000000  167.000000  167.000000  167.000000     167.000000   \n",
       "mean    38.270060   41.108976    6.815689   46.890215   17144.688623   \n",
       "std     40.328931   27.412010    2.746837   24.209589   19278.067698   \n",
       "min      2.600000    0.109000    1.810000    0.065900     609.000000   \n",
       "25%      8.250000   23.800000    4.920000   30.200000    3355.000000   \n",
       "50%     19.300000   35.000000    6.320000   43.300000    9960.000000   \n",
       "75%     62.100000   51.350000    8.600000   58.750000   22800.000000   \n",
       "max    208.000000  200.000000   17.900000  174.000000  125000.000000   \n",
       "\n",
       "        inflation  life_expec   total_fer           gdpp  \n",
       "count  167.000000  167.000000  167.000000     167.000000  \n",
       "mean     7.781832   70.555689    2.947964   12964.155689  \n",
       "std     10.570704    8.893172    1.513848   18328.704809  \n",
       "min     -4.210000   32.100000    1.150000     231.000000  \n",
       "25%      1.810000   65.300000    1.795000    1330.000000  \n",
       "50%      5.390000   73.100000    2.410000    4660.000000  \n",
       "75%     10.750000   76.800000    3.880000   14050.000000  \n",
       "max    104.000000   82.800000    7.490000  105000.000000  "
      ]
     },
     "execution_count": 9,
     "metadata": {},
     "output_type": "execute_result"
    }
   ],
   "source": [
    "#Verify statistical details of dataframe\n",
    "help.describe()\n",
    "\n",
    "#From the below statistical details it can be observed that there are outliers in the data"
   ]
  },
  {
   "cell_type": "markdown",
   "metadata": {},
   "source": [
    "#### Checking for outliers by using box plots"
   ]
  },
  {
   "cell_type": "code",
   "execution_count": 10,
   "metadata": {},
   "outputs": [
    {
     "data": {
      "image/png": "[encoded data removed]",
      "text/plain": [
       "<Figure size 1440x1080 with 9 Axes>"
      ]
     },
     "metadata": {
      "needs_background": "light"
     },
     "output_type": "display_data"
    }
   ],
   "source": [
    "fig, axs = plt.subplots(3,3,figsize = (20,15))\n",
    "plt1 = sns.boxplot(help['child_mort'], ax = axs[0,0])\n",
    "plt2 = sns.boxplot(help['exports'], ax = axs[0,1])\n",
    "plt3 = sns.boxplot(help['health'], ax = axs[0,2])\n",
    "plt4 = sns.boxplot(help['imports'], ax = axs[1,0])\n",
    "plt5 = sns.boxplot(help['income'], ax = axs[1,1])\n",
    "plt6 = sns.boxplot(help['inflation'], ax = axs[1,2])\n",
    "plt7 = sns.boxplot(help['life_expec'], ax = axs[2,0])\n",
    "plt8 = sns.boxplot(help['total_fer'], ax = axs[2,1])\n",
    "plt9 = sns.boxplot(help['gdpp'], ax = axs[2,2])\n",
    "\n",
    "plt.tight_layout()"
   ]
  },
  {
   "cell_type": "markdown",
   "metadata": {},
   "source": [
    "##### From above box plot it seems that there are outliers. But these are values for each country. For eg: few under developed countries will have low life_expectency, low gdpp, low income, low imports & exports, high inflation,high child_mortality, high total_fer and developed countries will have values vice versa for same facctors. So considering this each data provides useful insights. So it is not required to handle outliers in this case"
   ]
  },
  {
   "cell_type": "markdown",
   "metadata": {},
   "source": [
    "#### Let's visualize and find the 5 underdeveloped countries which are in need of the aid at most based on the following factors low life_expectency, low gdpp, low income, low imports & exports, high inflation,high child_mortality, high total_fer"
   ]
  },
  {
   "cell_type": "code",
   "execution_count": 11,
   "metadata": {},
   "outputs": [
    {
     "data": {
      "image/png": "[encoded data removed]",
      "text/plain": [
       "<Figure size 1440x1080 with 9 Axes>"
      ]
     },
     "metadata": {
      "needs_background": "light"
     },
     "output_type": "display_data"
    }
   ],
   "source": [
    "fig, axs = plt.subplots(3,3,figsize = (20,15))\n",
    "\n",
    "# Child Mortality Rate : Death of children under 5 years of age per 1000 live births\n",
    "\n",
    "child_mort_top5 = help[['country','child_mort']].sort_values('child_mort', ascending = False).head(5)\n",
    "plt1 = sns.barplot(x='country', y='child_mort', data= child_mort_top5, ax = axs[0,0])\n",
    "plt1.set(title = 'Top5 Countries with high Child_mort', xlabel = '', ylabel= 'Child Mortality Rate')\n",
    "\n",
    "# Exports: Exports of goods and services. Given as %age of the Total GDP\n",
    "\n",
    "exports_bottom5 = help[['country','exports']].sort_values('exports', ascending = True).head(5)\n",
    "plt2 = sns.barplot(x='country', y='exports', data= exports_bottom5, ax = axs[0,1])\n",
    "plt2.set(title = 'Top5 Countries with low exports', xlabel = '', ylabel= 'Exports of goods and services')\n",
    "\n",
    "# Health :Total health spending as %age of Total GDP.\n",
    "\n",
    "health_bottom5 = help[['country','health']].sort_values('health', ascending = True).head(5)\n",
    "plt3 = sns.barplot(x='country', y='health', data= health_bottom5, ax = axs[0,2])\n",
    "plt3.set(title = 'Top5 Countries with low health spending', xlabel = '', ylabel= 'Health spending')\n",
    "\n",
    "# Imports: Imports of goods and services. Given as %age of the Total GDP\n",
    "\n",
    "imports_bottom5 = help[['country','imports']].sort_values('imports', ascending = True).head(5)\n",
    "plt4 = sns.barplot(x='country', y='imports', data= imports_bottom5, ax = axs[1,0])\n",
    "plt4.set(title = 'Top5 Countries with low imports', xlabel = '', ylabel= 'Imports of goods and services')\n",
    "\n",
    "# Per capita Income : Net income per person\n",
    "\n",
    "income_bottom5 = help[['country','income']].sort_values('income', ascending = True).head(5)\n",
    "plt5 = sns.barplot(x='country', y='income', data= income_bottom5, ax = axs[1,1])\n",
    "plt5.set(title = 'Top5 Countries with low income', xlabel = '', ylabel= 'Per capita Income')\n",
    "\n",
    "# Inflation: The measurement of the annual growth rate of the Total GDP\n",
    "\n",
    "inflation_top5 = help[['country','inflation']].sort_values('inflation', ascending = False).head(5)\n",
    "plt6 = sns.barplot(x='country', y='inflation', data= inflation_top5, ax = axs[1,2])\n",
    "plt6.set(title = 'Top5 Countries with high inflation', xlabel = '', ylabel= 'Inflation')\n",
    "\n",
    "# Life Expectancy: The average number of years a new born child would live if the current mortality patterns are to remain same\n",
    "\n",
    "life_expec_bottom5 = help[['country','life_expec']].sort_values('life_expec', ascending = True).head(5)\n",
    "plt7 = sns.barplot(x='country', y='life_expec', data= life_expec_bottom5, ax = axs[2,0])\n",
    "plt7.set(title = 'Top5 Countries with low life_expec', xlabel = '', ylabel= 'Life Expectancy')\n",
    "\n",
    "\n",
    "# Fertility Rate: The number of children that would be born to each woman if the current age-fertility rates remain the same\n",
    "total_fer_top5 = help[['country','total_fer']].sort_values('total_fer', ascending = False).head(5)\n",
    "plt8 = sns.barplot(x='country', y='total_fer', data= total_fer_top5, ax = axs[2,1])\n",
    "plt8.set(title = 'Top5 Countries with high life_expec', xlabel = '', ylabel= 'Fertility Rate')\n",
    "\n",
    "\n",
    "# The GDP per capita : Calculated as the Total GDP divided by the total population.\n",
    "\n",
    "gdpp_bottom5 = help[['country','gdpp']].sort_values('gdpp', ascending = True).head(5)\n",
    "plt9 = sns.barplot(x='country', y='gdpp', data= gdpp_bottom5, ax = axs[2,2])\n",
    "plt9.set(title = 'Top5 Countries with low gdpp', xlabel = '', ylabel= 'GDP per capita')\n",
    "\n",
    "plt.tight_layout()\n",
    "plt.show()"
   ]
  },
  {
   "cell_type": "markdown",
   "metadata": {},
   "source": [
    "### Feature Standardisation"
   ]
  },
  {
   "cell_type": "code",
   "execution_count": 12,
   "metadata": {},
   "outputs": [],
   "source": [
    "# Normalising continuous features\n",
    "df = help[['child_mort','health','exports','imports','income','inflation','life_expec','total_fer','gdpp']]"
   ]
  },
  {
   "cell_type": "code",
   "execution_count": 13,
   "metadata": {},
   "outputs": [
    {
     "data": {
      "text/html": [
       "<div>\n",
       "<style scoped>\n",
       "    .dataframe tbody tr th:only-of-type {\n",
       "        vertical-align: middle;\n",
       "    }\n",
       "\n",
       "    .dataframe tbody tr th {\n",
       "        vertical-align: top;\n",
       "    }\n",
       "\n",
       "    .dataframe thead th {\n",
       "        text-align: right;\n",
       "    }\n",
       "</style>\n",
       "<table border=\"1\" class=\"dataframe\">\n",
       "  <thead>\n",
       "    <tr style=\"text-align: right;\">\n",
       "      <th></th>\n",
       "      <th>child_mort</th>\n",
       "      <th>health</th>\n",
       "      <th>exports</th>\n",
       "      <th>imports</th>\n",
       "      <th>income</th>\n",
       "      <th>inflation</th>\n",
       "      <th>life_expec</th>\n",
       "      <th>total_fer</th>\n",
       "      <th>gdpp</th>\n",
       "    </tr>\n",
       "  </thead>\n",
       "  <tbody>\n",
       "    <tr>\n",
       "      <th>0</th>\n",
       "      <td>1.287660</td>\n",
       "      <td>0.278251</td>\n",
       "      <td>-1.134867</td>\n",
       "      <td>-0.082208</td>\n",
       "      <td>-0.805822</td>\n",
       "      <td>0.156864</td>\n",
       "      <td>-1.614237</td>\n",
       "      <td>1.897176</td>\n",
       "      <td>-0.677143</td>\n",
       "    </tr>\n",
       "    <tr>\n",
       "      <th>1</th>\n",
       "      <td>-0.537333</td>\n",
       "      <td>-0.096725</td>\n",
       "      <td>-0.478220</td>\n",
       "      <td>0.070624</td>\n",
       "      <td>-0.374243</td>\n",
       "      <td>-0.311411</td>\n",
       "      <td>0.645924</td>\n",
       "      <td>-0.857394</td>\n",
       "      <td>-0.484167</td>\n",
       "    </tr>\n",
       "    <tr>\n",
       "      <th>2</th>\n",
       "      <td>-0.272015</td>\n",
       "      <td>-0.963176</td>\n",
       "      <td>-0.098824</td>\n",
       "      <td>-0.639838</td>\n",
       "      <td>-0.220182</td>\n",
       "      <td>0.786908</td>\n",
       "      <td>0.668413</td>\n",
       "      <td>-0.038289</td>\n",
       "      <td>-0.463980</td>\n",
       "    </tr>\n",
       "    <tr>\n",
       "      <th>3</th>\n",
       "      <td>2.001787</td>\n",
       "      <td>-1.443729</td>\n",
       "      <td>0.773056</td>\n",
       "      <td>-0.164820</td>\n",
       "      <td>-0.583289</td>\n",
       "      <td>1.382894</td>\n",
       "      <td>-1.175698</td>\n",
       "      <td>2.121770</td>\n",
       "      <td>-0.514720</td>\n",
       "    </tr>\n",
       "    <tr>\n",
       "      <th>4</th>\n",
       "      <td>-0.693548</td>\n",
       "      <td>-0.286034</td>\n",
       "      <td>0.160186</td>\n",
       "      <td>0.496076</td>\n",
       "      <td>0.101427</td>\n",
       "      <td>-0.599944</td>\n",
       "      <td>0.702147</td>\n",
       "      <td>-0.540321</td>\n",
       "      <td>-0.041692</td>\n",
       "    </tr>\n",
       "  </tbody>\n",
       "</table>\n",
       "</div>"
      ],
      "text/plain": [
       "   child_mort    health   exports   imports    income  inflation  life_expec  \\\n",
       "0    1.287660  0.278251 -1.134867 -0.082208 -0.805822   0.156864   -1.614237   \n",
       "1   -0.537333 -0.096725 -0.478220  0.070624 -0.374243  -0.311411    0.645924   \n",
       "2   -0.272015 -0.963176 -0.098824 -0.639838 -0.220182   0.786908    0.668413   \n",
       "3    2.001787 -1.443729  0.773056 -0.164820 -0.583289   1.382894   -1.175698   \n",
       "4   -0.693548 -0.286034  0.160186  0.496076  0.101427  -0.599944    0.702147   \n",
       "\n",
       "   total_fer      gdpp  \n",
       "0   1.897176 -0.677143  \n",
       "1  -0.857394 -0.484167  \n",
       "2  -0.038289 -0.463980  \n",
       "3   2.121770 -0.514720  \n",
       "4  -0.540321 -0.041692  "
      ]
     },
     "execution_count": 13,
     "metadata": {},
     "output_type": "execute_result"
    }
   ],
   "source": [
    "#Apply stadard scaling using below formala. We can also use sklearn.preprocessing library for scaling\n",
    "normalized_df=(df-df.mean())/df.std()\n",
    "normalized_df.head()"
   ]
  },
  {
   "cell_type": "code",
   "execution_count": 14,
   "metadata": {},
   "outputs": [
    {
     "data": {
      "text/html": [
       "<div>\n",
       "<style scoped>\n",
       "    .dataframe tbody tr th:only-of-type {\n",
       "        vertical-align: middle;\n",
       "    }\n",
       "\n",
       "    .dataframe tbody tr th {\n",
       "        vertical-align: top;\n",
       "    }\n",
       "\n",
       "    .dataframe thead th {\n",
       "        text-align: right;\n",
       "    }\n",
       "</style>\n",
       "<table border=\"1\" class=\"dataframe\">\n",
       "  <thead>\n",
       "    <tr style=\"text-align: right;\">\n",
       "      <th></th>\n",
       "      <th>country</th>\n",
       "      <th>child_mort</th>\n",
       "      <th>health</th>\n",
       "      <th>exports</th>\n",
       "      <th>imports</th>\n",
       "      <th>income</th>\n",
       "      <th>inflation</th>\n",
       "      <th>life_expec</th>\n",
       "      <th>total_fer</th>\n",
       "      <th>gdpp</th>\n",
       "    </tr>\n",
       "  </thead>\n",
       "  <tbody>\n",
       "    <tr>\n",
       "      <th>0</th>\n",
       "      <td>Afghanistan</td>\n",
       "      <td>1.287660</td>\n",
       "      <td>0.278251</td>\n",
       "      <td>-1.134867</td>\n",
       "      <td>-0.082208</td>\n",
       "      <td>-0.805822</td>\n",
       "      <td>0.156864</td>\n",
       "      <td>-1.614237</td>\n",
       "      <td>1.897176</td>\n",
       "      <td>-0.677143</td>\n",
       "    </tr>\n",
       "    <tr>\n",
       "      <th>1</th>\n",
       "      <td>Albania</td>\n",
       "      <td>-0.537333</td>\n",
       "      <td>-0.096725</td>\n",
       "      <td>-0.478220</td>\n",
       "      <td>0.070624</td>\n",
       "      <td>-0.374243</td>\n",
       "      <td>-0.311411</td>\n",
       "      <td>0.645924</td>\n",
       "      <td>-0.857394</td>\n",
       "      <td>-0.484167</td>\n",
       "    </tr>\n",
       "    <tr>\n",
       "      <th>2</th>\n",
       "      <td>Algeria</td>\n",
       "      <td>-0.272015</td>\n",
       "      <td>-0.963176</td>\n",
       "      <td>-0.098824</td>\n",
       "      <td>-0.639838</td>\n",
       "      <td>-0.220182</td>\n",
       "      <td>0.786908</td>\n",
       "      <td>0.668413</td>\n",
       "      <td>-0.038289</td>\n",
       "      <td>-0.463980</td>\n",
       "    </tr>\n",
       "    <tr>\n",
       "      <th>3</th>\n",
       "      <td>Angola</td>\n",
       "      <td>2.001787</td>\n",
       "      <td>-1.443729</td>\n",
       "      <td>0.773056</td>\n",
       "      <td>-0.164820</td>\n",
       "      <td>-0.583289</td>\n",
       "      <td>1.382894</td>\n",
       "      <td>-1.175698</td>\n",
       "      <td>2.121770</td>\n",
       "      <td>-0.514720</td>\n",
       "    </tr>\n",
       "    <tr>\n",
       "      <th>4</th>\n",
       "      <td>Antigua and Barbuda</td>\n",
       "      <td>-0.693548</td>\n",
       "      <td>-0.286034</td>\n",
       "      <td>0.160186</td>\n",
       "      <td>0.496076</td>\n",
       "      <td>0.101427</td>\n",
       "      <td>-0.599944</td>\n",
       "      <td>0.702147</td>\n",
       "      <td>-0.540321</td>\n",
       "      <td>-0.041692</td>\n",
       "    </tr>\n",
       "  </tbody>\n",
       "</table>\n",
       "</div>"
      ],
      "text/plain": [
       "               country  child_mort    health   exports   imports    income  \\\n",
       "0          Afghanistan    1.287660  0.278251 -1.134867 -0.082208 -0.805822   \n",
       "1              Albania   -0.537333 -0.096725 -0.478220  0.070624 -0.374243   \n",
       "2              Algeria   -0.272015 -0.963176 -0.098824 -0.639838 -0.220182   \n",
       "3               Angola    2.001787 -1.443729  0.773056 -0.164820 -0.583289   \n",
       "4  Antigua and Barbuda   -0.693548 -0.286034  0.160186  0.496076  0.101427   \n",
       "\n",
       "   inflation  life_expec  total_fer      gdpp  \n",
       "0   0.156864   -1.614237   1.897176 -0.677143  \n",
       "1  -0.311411    0.645924  -0.857394 -0.484167  \n",
       "2   0.786908    0.668413  -0.038289 -0.463980  \n",
       "3   1.382894   -1.175698   2.121770 -0.514720  \n",
       "4  -0.599944    0.702147  -0.540321 -0.041692  "
      ]
     },
     "execution_count": 14,
     "metadata": {},
     "output_type": "execute_result"
    }
   ],
   "source": [
    "#Dropping the original variables and including the stanndardised variables in data set.\n",
    "help1 = help.drop(['child_mort','health','exports','imports','income','inflation','life_expec','total_fer','gdpp'], 1)\n",
    "normalized_df_country = pd.concat([help1,normalized_df],axis=1)\n",
    "normalized_df_country.head()"
   ]
  },
  {
   "cell_type": "markdown",
   "metadata": {},
   "source": [
    "#### PCA on the above data"
   ]
  },
  {
   "cell_type": "code",
   "execution_count": 15,
   "metadata": {},
   "outputs": [],
   "source": [
    "#Assigning feature and target variables to x & y\n",
    "x= normalized_df\n",
    "y = help.drop(['child_mort','health','exports','imports','income','inflation','life_expec','total_fer','gdpp'], 1)"
   ]
  },
  {
   "cell_type": "code",
   "execution_count": 16,
   "metadata": {},
   "outputs": [
    {
     "data": {
      "text/plain": [
       "(167, 9)"
      ]
     },
     "execution_count": 16,
     "metadata": {},
     "output_type": "execute_result"
    }
   ],
   "source": [
    "#Verifying the shape\n",
    "normalized_df.shape"
   ]
  },
  {
   "cell_type": "code",
   "execution_count": 17,
   "metadata": {},
   "outputs": [
    {
     "data": {
      "image/png": "[encoded data removed]",
      "text/plain": [
       "<Figure size 432x288 with 1 Axes>"
      ]
     },
     "metadata": {
      "needs_background": "light"
     },
     "output_type": "display_data"
    }
   ],
   "source": [
    "#Importing the PCA module\n",
    "from sklearn.decomposition import PCA\n",
    "\n",
    "#Fitting the PCA algorithm with our Data\n",
    "pca = PCA().fit(x)\n",
    "\n",
    "#Scree plot - Plotting the Cumulative Summation of the Explained Variance\n",
    "plt.figure()\n",
    "plt.plot(np.cumsum(pca.explained_variance_ratio_))\n",
    "plt.xlabel('Number of Components')\n",
    "plt.ylabel('Variance (%)') #for each component\n",
    "plt.title('Explained Variance on Help Dataset')\n",
    "plt.show()"
   ]
  },
  {
   "attachments": {
    "image.png": {
     "image/png": "[encoded data removed]"
    }
   },
   "cell_type": "markdown",
   "metadata": {},
   "source": [
    "##### The above plot tells us that selecting 5 components we can preserve around 95% of the total variance of the data. With this information in our hands, we can implement the PCA for 5 best components we will also verify this by variance explanation plot below\n",
    "\n",
    "![image.png](attachment:image.png)"
   ]
  },
  {
   "cell_type": "code",
   "execution_count": 18,
   "metadata": {},
   "outputs": [],
   "source": [
    "#Using incremental PCA for efficiency - saves a lot of time on larger datasets\n",
    "from sklearn.decomposition import IncrementalPCA\n",
    "pca_final = IncrementalPCA(n_components=5)\n"
   ]
  },
  {
   "cell_type": "code",
   "execution_count": 19,
   "metadata": {},
   "outputs": [
    {
     "data": {
      "text/plain": [
       "array([0.45950112, 0.1717258 , 0.1295817 , 0.11045942, 0.07191446])"
      ]
     },
     "execution_count": 19,
     "metadata": {},
     "output_type": "execute_result"
    }
   ],
   "source": [
    "help_pca = pca_final.fit_transform(x)\n",
    "pca_final.explained_variance_ratio_"
   ]
  },
  {
   "cell_type": "code",
   "execution_count": 20,
   "metadata": {},
   "outputs": [
    {
     "data": {
      "text/plain": [
       "array([[-0.41967749,  0.15090765,  0.28371974,  0.16157087,  0.39861811,\n",
       "        -0.1928264 ,  0.42549267, -0.40396116,  0.39266855],\n",
       "       [ 0.19312245, -0.24350339,  0.61357956,  0.67130924,  0.02407378,\n",
       "        -0.00332551, -0.22455856,  0.15219983, -0.04573737],\n",
       "       [-0.03436069, -0.6044529 ,  0.14687014, -0.30913862,  0.30002773,\n",
       "         0.62984364,  0.12047131,  0.02795883,  0.11959861],\n",
       "       [ 0.37107257,  0.45432934,  0.00490633, -0.07721714,  0.39426589,\n",
       "         0.14920805, -0.19996777,  0.38322405,  0.53417883],\n",
       "       [-0.18390053,  0.51574709,  0.07043899,  0.24222051, -0.25069755,\n",
       "         0.71769058,  0.13980886, -0.08575814, -0.17810981]])"
      ]
     },
     "execution_count": 20,
     "metadata": {},
     "output_type": "execute_result"
    }
   ],
   "source": [
    "pca_final.components_"
   ]
  },
  {
   "cell_type": "code",
   "execution_count": 21,
   "metadata": {},
   "outputs": [
    {
     "data": {
      "text/html": [
       "<div>\n",
       "<style scoped>\n",
       "    .dataframe tbody tr th:only-of-type {\n",
       "        vertical-align: middle;\n",
       "    }\n",
       "\n",
       "    .dataframe tbody tr th {\n",
       "        vertical-align: top;\n",
       "    }\n",
       "\n",
       "    .dataframe thead th {\n",
       "        text-align: right;\n",
       "    }\n",
       "</style>\n",
       "<table border=\"1\" class=\"dataframe\">\n",
       "  <thead>\n",
       "    <tr style=\"text-align: right;\">\n",
       "      <th></th>\n",
       "      <th>Explained Variance</th>\n",
       "      <th>child_mort</th>\n",
       "      <th>health</th>\n",
       "      <th>exports</th>\n",
       "      <th>imports</th>\n",
       "      <th>income</th>\n",
       "      <th>inflation</th>\n",
       "      <th>life_expec</th>\n",
       "      <th>total_fer</th>\n",
       "      <th>gdpp</th>\n",
       "    </tr>\n",
       "  </thead>\n",
       "  <tbody>\n",
       "    <tr>\n",
       "      <th>PC 1</th>\n",
       "      <td>0.459501</td>\n",
       "      <td>-0.419677</td>\n",
       "      <td>0.150908</td>\n",
       "      <td>0.283720</td>\n",
       "      <td>0.161571</td>\n",
       "      <td>0.398618</td>\n",
       "      <td>-0.192826</td>\n",
       "      <td>0.425493</td>\n",
       "      <td>-0.403961</td>\n",
       "      <td>0.392669</td>\n",
       "    </tr>\n",
       "    <tr>\n",
       "      <th>PC 2</th>\n",
       "      <td>0.171726</td>\n",
       "      <td>0.193122</td>\n",
       "      <td>-0.243503</td>\n",
       "      <td>0.613580</td>\n",
       "      <td>0.671309</td>\n",
       "      <td>0.024074</td>\n",
       "      <td>-0.003326</td>\n",
       "      <td>-0.224559</td>\n",
       "      <td>0.152200</td>\n",
       "      <td>-0.045737</td>\n",
       "    </tr>\n",
       "    <tr>\n",
       "      <th>PC 3</th>\n",
       "      <td>0.129582</td>\n",
       "      <td>-0.034361</td>\n",
       "      <td>-0.604453</td>\n",
       "      <td>0.146870</td>\n",
       "      <td>-0.309139</td>\n",
       "      <td>0.300028</td>\n",
       "      <td>0.629844</td>\n",
       "      <td>0.120471</td>\n",
       "      <td>0.027959</td>\n",
       "      <td>0.119599</td>\n",
       "    </tr>\n",
       "    <tr>\n",
       "      <th>PC 4</th>\n",
       "      <td>0.110459</td>\n",
       "      <td>0.371073</td>\n",
       "      <td>0.454329</td>\n",
       "      <td>0.004906</td>\n",
       "      <td>-0.077217</td>\n",
       "      <td>0.394266</td>\n",
       "      <td>0.149208</td>\n",
       "      <td>-0.199968</td>\n",
       "      <td>0.383224</td>\n",
       "      <td>0.534179</td>\n",
       "    </tr>\n",
       "    <tr>\n",
       "      <th>PC 5</th>\n",
       "      <td>0.071914</td>\n",
       "      <td>-0.183901</td>\n",
       "      <td>0.515747</td>\n",
       "      <td>0.070439</td>\n",
       "      <td>0.242221</td>\n",
       "      <td>-0.250698</td>\n",
       "      <td>0.717691</td>\n",
       "      <td>0.139809</td>\n",
       "      <td>-0.085758</td>\n",
       "      <td>-0.178110</td>\n",
       "    </tr>\n",
       "  </tbody>\n",
       "</table>\n",
       "</div>"
      ],
      "text/plain": [
       "      Explained Variance  child_mort    health   exports   imports    income  \\\n",
       "PC 1            0.459501   -0.419677  0.150908  0.283720  0.161571  0.398618   \n",
       "PC 2            0.171726    0.193122 -0.243503  0.613580  0.671309  0.024074   \n",
       "PC 3            0.129582   -0.034361 -0.604453  0.146870 -0.309139  0.300028   \n",
       "PC 4            0.110459    0.371073  0.454329  0.004906 -0.077217  0.394266   \n",
       "PC 5            0.071914   -0.183901  0.515747  0.070439  0.242221 -0.250698   \n",
       "\n",
       "      inflation  life_expec  total_fer      gdpp  \n",
       "PC 1  -0.192826    0.425493  -0.403961  0.392669  \n",
       "PC 2  -0.003326   -0.224559   0.152200 -0.045737  \n",
       "PC 3   0.629844    0.120471   0.027959  0.119599  \n",
       "PC 4   0.149208   -0.199968   0.383224  0.534179  \n",
       "PC 5   0.717691    0.139809  -0.085758 -0.178110  "
      ]
     },
     "execution_count": 21,
     "metadata": {},
     "output_type": "execute_result"
    }
   ],
   "source": [
    "#Verifying variance explanation for all principal components\n",
    "dim = ['PC {}'.format(i) for i in range(1,len(pca_final.components_)+1)]\n",
    "\n",
    "components = pd.DataFrame(pca_final.components_,columns=x.columns)\n",
    "components.index = dim\n",
    "\n",
    "variance = pd.DataFrame(pca_final.explained_variance_ratio_, columns=['Explained Variance'])\n",
    "variance.index = dim\n",
    "\n",
    "pd.concat([variance,components], axis=1)"
   ]
  },
  {
   "cell_type": "code",
   "execution_count": 22,
   "metadata": {},
   "outputs": [
    {
     "data": {
      "image/png": "[encoded data removed]",
      "text/plain": [
       "<Figure size 1152x648 with 1 Axes>"
      ]
     },
     "metadata": {
      "needs_background": "light"
     },
     "output_type": "display_data"
    }
   ],
   "source": [
    "#Plotting variance explanation\n",
    "import matplotlib.pyplot as plt\n",
    "fig, ax = plt.subplots(figsize=(16,9))\n",
    "components.plot(kind='bar', ax=ax)\n",
    "ax.set_xticklabels(dim)\n",
    "for i,variance in enumerate(pca_final.explained_variance_ratio_):\n",
    "    ax.text(i,ax.get_ylim()[1]+0.05,'Explained variance {}'.format(np.round(variance,4)))\n",
    "plt.show()"
   ]
  },
  {
   "cell_type": "markdown",
   "metadata": {},
   "source": [
    "#### First 4 principal components explain the variance of 0.87(0.45+0.17+0.13+0.11) so we can say its good to use  first 4 principal components."
   ]
  },
  {
   "cell_type": "code",
   "execution_count": 23,
   "metadata": {},
   "outputs": [
    {
     "data": {
      "text/plain": [
       "array([0.4595174 , 0.17181626, 0.13004259, 0.11053162])"
      ]
     },
     "execution_count": 23,
     "metadata": {},
     "output_type": "execute_result"
    }
   ],
   "source": [
    "from sklearn.decomposition import PCA\n",
    "pca = PCA(n_components=4)\n",
    "pca.fit(x)\n",
    "pca.explained_variance_ratio_"
   ]
  },
  {
   "cell_type": "code",
   "execution_count": 24,
   "metadata": {},
   "outputs": [
    {
     "data": {
      "text/html": [
       "<div>\n",
       "<style scoped>\n",
       "    .dataframe tbody tr th:only-of-type {\n",
       "        vertical-align: middle;\n",
       "    }\n",
       "\n",
       "    .dataframe tbody tr th {\n",
       "        vertical-align: top;\n",
       "    }\n",
       "\n",
       "    .dataframe thead th {\n",
       "        text-align: right;\n",
       "    }\n",
       "</style>\n",
       "<table border=\"1\" class=\"dataframe\">\n",
       "  <thead>\n",
       "    <tr style=\"text-align: right;\">\n",
       "      <th></th>\n",
       "      <th>PC1</th>\n",
       "      <th>PC2</th>\n",
       "      <th>PC3</th>\n",
       "      <th>PC4</th>\n",
       "    </tr>\n",
       "  </thead>\n",
       "  <tbody>\n",
       "    <tr>\n",
       "      <th>0</th>\n",
       "      <td>-2.904290</td>\n",
       "      <td>0.095334</td>\n",
       "      <td>-0.715965</td>\n",
       "      <td>1.002240</td>\n",
       "    </tr>\n",
       "    <tr>\n",
       "      <th>1</th>\n",
       "      <td>0.428622</td>\n",
       "      <td>-0.586392</td>\n",
       "      <td>-0.332486</td>\n",
       "      <td>-1.157577</td>\n",
       "    </tr>\n",
       "    <tr>\n",
       "      <th>2</th>\n",
       "      <td>-0.284370</td>\n",
       "      <td>-0.453810</td>\n",
       "      <td>1.217842</td>\n",
       "      <td>-0.865511</td>\n",
       "    </tr>\n",
       "    <tr>\n",
       "      <th>3</th>\n",
       "      <td>-2.923630</td>\n",
       "      <td>1.690471</td>\n",
       "      <td>1.520471</td>\n",
       "      <td>0.837107</td>\n",
       "    </tr>\n",
       "    <tr>\n",
       "      <th>4</th>\n",
       "      <td>1.030477</td>\n",
       "      <td>0.136249</td>\n",
       "      <td>-0.225044</td>\n",
       "      <td>-0.844523</td>\n",
       "    </tr>\n",
       "  </tbody>\n",
       "</table>\n",
       "</div>"
      ],
      "text/plain": [
       "        PC1       PC2       PC3       PC4\n",
       "0 -2.904290  0.095334 -0.715965  1.002240\n",
       "1  0.428622 -0.586392 -0.332486 -1.157577\n",
       "2 -0.284370 -0.453810  1.217842 -0.865511\n",
       "3 -2.923630  1.690471  1.520471  0.837107\n",
       "4  1.030477  0.136249 -0.225044 -0.844523"
      ]
     },
     "execution_count": 24,
     "metadata": {},
     "output_type": "execute_result"
    }
   ],
   "source": [
    "#Converting PCA array to a dataframe\n",
    "help_pca = pca.transform(x)\n",
    "help_pca = pd.DataFrame(help_pca,columns=['PC1','PC2', 'PC3','PC4'])\n",
    "help_pca.head()"
   ]
  },
  {
   "cell_type": "code",
   "execution_count": 25,
   "metadata": {},
   "outputs": [
    {
     "data": {
      "text/html": [
       "<div>\n",
       "<style scoped>\n",
       "    .dataframe tbody tr th:only-of-type {\n",
       "        vertical-align: middle;\n",
       "    }\n",
       "\n",
       "    .dataframe tbody tr th {\n",
       "        vertical-align: top;\n",
       "    }\n",
       "\n",
       "    .dataframe thead th {\n",
       "        text-align: right;\n",
       "    }\n",
       "</style>\n",
       "<table border=\"1\" class=\"dataframe\">\n",
       "  <thead>\n",
       "    <tr style=\"text-align: right;\">\n",
       "      <th></th>\n",
       "      <th>PC1</th>\n",
       "      <th>PC2</th>\n",
       "      <th>PC3</th>\n",
       "      <th>PC4</th>\n",
       "    </tr>\n",
       "  </thead>\n",
       "  <tbody>\n",
       "    <tr>\n",
       "      <th>0</th>\n",
       "      <td>-2.904290</td>\n",
       "      <td>0.095334</td>\n",
       "      <td>-0.715965</td>\n",
       "      <td>1.002240</td>\n",
       "    </tr>\n",
       "    <tr>\n",
       "      <th>1</th>\n",
       "      <td>0.428622</td>\n",
       "      <td>-0.586392</td>\n",
       "      <td>-0.332486</td>\n",
       "      <td>-1.157577</td>\n",
       "    </tr>\n",
       "    <tr>\n",
       "      <th>2</th>\n",
       "      <td>-0.284370</td>\n",
       "      <td>-0.453810</td>\n",
       "      <td>1.217842</td>\n",
       "      <td>-0.865511</td>\n",
       "    </tr>\n",
       "    <tr>\n",
       "      <th>3</th>\n",
       "      <td>-2.923630</td>\n",
       "      <td>1.690471</td>\n",
       "      <td>1.520471</td>\n",
       "      <td>0.837107</td>\n",
       "    </tr>\n",
       "    <tr>\n",
       "      <th>4</th>\n",
       "      <td>1.030477</td>\n",
       "      <td>0.136249</td>\n",
       "      <td>-0.225044</td>\n",
       "      <td>-0.844523</td>\n",
       "    </tr>\n",
       "  </tbody>\n",
       "</table>\n",
       "</div>"
      ],
      "text/plain": [
       "        PC1       PC2       PC3       PC4\n",
       "0 -2.904290  0.095334 -0.715965  1.002240\n",
       "1  0.428622 -0.586392 -0.332486 -1.157577\n",
       "2 -0.284370 -0.453810  1.217842 -0.865511\n",
       "3 -2.923630  1.690471  1.520471  0.837107\n",
       "4  1.030477  0.136249 -0.225044 -0.844523"
      ]
     },
     "execution_count": 25,
     "metadata": {},
     "output_type": "execute_result"
    }
   ],
   "source": [
    "#Copying the above data frame to help_pca_h to use it for hierarchical clustering\n",
    "help_pca_h = help_pca\n",
    "help_pca_h.head()"
   ]
  },
  {
   "cell_type": "markdown",
   "metadata": {},
   "source": [
    "#### Creating correlation matrix for the principal components -To check correlation. No correlation expected"
   ]
  },
  {
   "cell_type": "code",
   "execution_count": 26,
   "metadata": {},
   "outputs": [],
   "source": [
    "#creating correlation matrix for the principal components\n",
    "corrmat = np.corrcoef(help_pca.transpose())"
   ]
  },
  {
   "cell_type": "code",
   "execution_count": 27,
   "metadata": {},
   "outputs": [
    {
     "data": {
      "text/plain": [
       "<matplotlib.axes._subplots.AxesSubplot at 0x1a1a35f1d0>"
      ]
     },
     "execution_count": 27,
     "metadata": {},
     "output_type": "execute_result"
    },
    {
     "data": {
      "image/png": "[encoded data removed]",
      "text/plain": [
       "<Figure size 720x576 with 2 Axes>"
      ]
     },
     "metadata": {
      "needs_background": "light"
     },
     "output_type": "display_data"
    }
   ],
   "source": [
    "#plotting the correlation matrix\n",
    "%matplotlib inline\n",
    "plt.figure(figsize = (10,8))\n",
    "sns.heatmap(corrmat,annot = True)"
   ]
  },
  {
   "cell_type": "markdown",
   "metadata": {},
   "source": [
    "#### From above correlation plot it can be observed that correlations are very close to 0. Hence there is no correlation between any two components which tells that PCA technique has been applied well to the data"
   ]
  },
  {
   "cell_type": "code",
   "execution_count": 28,
   "metadata": {},
   "outputs": [
    {
     "data": {
      "text/html": [
       "<div>\n",
       "<style scoped>\n",
       "    .dataframe tbody tr th:only-of-type {\n",
       "        vertical-align: middle;\n",
       "    }\n",
       "\n",
       "    .dataframe tbody tr th {\n",
       "        vertical-align: top;\n",
       "    }\n",
       "\n",
       "    .dataframe thead th {\n",
       "        text-align: right;\n",
       "    }\n",
       "</style>\n",
       "<table border=\"1\" class=\"dataframe\">\n",
       "  <thead>\n",
       "    <tr style=\"text-align: right;\">\n",
       "      <th></th>\n",
       "      <th>PC1</th>\n",
       "      <th>PC2</th>\n",
       "      <th>PC3</th>\n",
       "      <th>PC4</th>\n",
       "      <th>Feature</th>\n",
       "    </tr>\n",
       "  </thead>\n",
       "  <tbody>\n",
       "    <tr>\n",
       "      <th>0</th>\n",
       "      <td>-0.419519</td>\n",
       "      <td>0.192884</td>\n",
       "      <td>-0.029544</td>\n",
       "      <td>0.370653</td>\n",
       "      <td>child_mort</td>\n",
       "    </tr>\n",
       "    <tr>\n",
       "      <th>1</th>\n",
       "      <td>0.150838</td>\n",
       "      <td>-0.243087</td>\n",
       "      <td>-0.596632</td>\n",
       "      <td>0.461897</td>\n",
       "      <td>health</td>\n",
       "    </tr>\n",
       "    <tr>\n",
       "      <th>2</th>\n",
       "      <td>0.283897</td>\n",
       "      <td>0.613163</td>\n",
       "      <td>0.144761</td>\n",
       "      <td>0.003091</td>\n",
       "      <td>exports</td>\n",
       "    </tr>\n",
       "    <tr>\n",
       "      <th>3</th>\n",
       "      <td>0.161482</td>\n",
       "      <td>0.671821</td>\n",
       "      <td>-0.299927</td>\n",
       "      <td>-0.071907</td>\n",
       "      <td>imports</td>\n",
       "    </tr>\n",
       "    <tr>\n",
       "      <th>4</th>\n",
       "      <td>0.398441</td>\n",
       "      <td>0.022536</td>\n",
       "      <td>0.301548</td>\n",
       "      <td>0.392159</td>\n",
       "      <td>income</td>\n",
       "    </tr>\n",
       "  </tbody>\n",
       "</table>\n",
       "</div>"
      ],
      "text/plain": [
       "        PC1       PC2       PC3       PC4     Feature\n",
       "0 -0.419519  0.192884 -0.029544  0.370653  child_mort\n",
       "1  0.150838 -0.243087 -0.596632  0.461897      health\n",
       "2  0.283897  0.613163  0.144761  0.003091     exports\n",
       "3  0.161482  0.671821 -0.299927 -0.071907     imports\n",
       "4  0.398441  0.022536  0.301548  0.392159      income"
      ]
     },
     "execution_count": 28,
     "metadata": {},
     "output_type": "execute_result"
    }
   ],
   "source": [
    "#Adding feature column to PC dataframe\n",
    "colnames = list(x.columns)\n",
    "\n",
    "help_pca_feature = pd.DataFrame({'PC1':pca.components_[0],'PC2':pca.components_[1],\n",
    "                         'PC3':pca.components_[2],'PC4':pca.components_[3],'Feature':colnames})\n",
    "help_pca_feature.head()"
   ]
  },
  {
   "cell_type": "code",
   "execution_count": 29,
   "metadata": {},
   "outputs": [
    {
     "data": {
      "image/png": "[encoded data removed]",
      "text/plain": [
       "<Figure size 576x576 with 1 Axes>"
      ]
     },
     "metadata": {
      "needs_background": "light"
     },
     "output_type": "display_data"
    }
   ],
   "source": [
    "#Plotting principal components\n",
    "fig = plt.figure(figsize = (8,8))\n",
    "plt.scatter(help_pca_feature.PC1, help_pca_feature.PC2)\n",
    "plt.xlabel('Principal Component 1')\n",
    "plt.ylabel('Principal Component 2')\n",
    "for i, txt in enumerate(help_pca_feature.Feature):\n",
    "    plt.annotate(txt, (help_pca_feature.PC1[i],help_pca_feature.PC2[i]))\n",
    "plt.tight_layout()\n",
    "plt.show()"
   ]
  },
  {
   "cell_type": "markdown",
   "metadata": {},
   "source": [
    "#### From above plot it can be observed below\n",
    "#### 1. First component is in the direction where the 'health', 'life_exp', 'gdpp', 'income' variables are heavy\n",
    "#### 2. Both components are in the direction where the 'import' & 'export' variables are heavy\n",
    "#### 3. Second component  in the direction where the 'child_mort' & 'total_fert' variables are heavy"
   ]
  },
  {
   "cell_type": "markdown",
   "metadata": {},
   "source": [
    "### Clustering analysis"
   ]
  },
  {
   "cell_type": "markdown",
   "metadata": {},
   "source": [
    "#### Find Hopkins Statistics: The Hopkins statistic, is a statistic which gives a value which indicates the cluster tendency, in other words: how well the data can be clustered.\n",
    "\n",
    "    If the value is between {0.01, ...,0.3}, the data is regularly spaced.\n",
    "\n",
    "    If the value is around 0.5, it is random.\n",
    "\n",
    "    If the value is between {0.7, ..., 0.99}, it has a high tendency to cluster."
   ]
  },
  {
   "cell_type": "code",
   "execution_count": 30,
   "metadata": {},
   "outputs": [],
   "source": [
    "from sklearn.neighbors import NearestNeighbors\n",
    "from random import sample\n",
    "from numpy.random import uniform\n",
    "import numpy as np\n",
    "from math import isnan\n",
    " \n",
    "def hopkins(X):\n",
    "    d = X.shape[1]\n",
    "    #d = len(vars) # columns\n",
    "    n = len(X) # rows\n",
    "    m = int(0.1 * n) \n",
    "    nbrs = NearestNeighbors(n_neighbors=1).fit(X.values)\n",
    " \n",
    "    rand_X = sample(range(0, n, 1), m)\n",
    " \n",
    "    ujd = []\n",
    "    wjd = []\n",
    "    for j in range(0, m):\n",
    "        u_dist, _ = nbrs.kneighbors(uniform(np.amin(X,axis=0),np.amax(X,axis=0),d).reshape(1, -1), 2, return_distance=True)\n",
    "        ujd.append(u_dist[0][1])\n",
    "        w_dist, _ = nbrs.kneighbors(X.iloc[rand_X[j]].values.reshape(1, -1), 2, return_distance=True)\n",
    "        wjd.append(w_dist[0][1])\n",
    " \n",
    "    H = sum(ujd) / (sum(ujd) + sum(wjd))\n",
    "    if isnan(H):\n",
    "        print(ujd, wjd)\n",
    "        H = 0\n",
    " \n",
    "    return H"
   ]
  },
  {
   "cell_type": "code",
   "execution_count": 31,
   "metadata": {},
   "outputs": [
    {
     "data": {
      "text/plain": [
       "0.8535967722248448"
      ]
     },
     "execution_count": 31,
     "metadata": {},
     "output_type": "execute_result"
    }
   ],
   "source": [
    "hopkins(x)\n",
    "\n",
    "# Hence it can be observed that data has a high tendency to cluster."
   ]
  },
  {
   "cell_type": "code",
   "execution_count": 32,
   "metadata": {},
   "outputs": [
    {
     "data": {
      "text/plain": [
       "[<matplotlib.lines.Line2D at 0x1a1bc70e10>]"
      ]
     },
     "execution_count": 32,
     "metadata": {},
     "output_type": "execute_result"
    },
    {
     "data": {
      "image/png": "[encoded data removed]",
      "text/plain": [
       "<Figure size 432x288 with 1 Axes>"
      ]
     },
     "metadata": {
      "needs_background": "light"
     },
     "output_type": "display_data"
    }
   ],
   "source": [
    "# Let's use elbow method to find optimal number of cluters\n",
    "# sum of squared distances or WCSS(Within-Cluster-Sum-of-Squares)\n",
    "from sklearn.cluster import KMeans\n",
    "ssd = []\n",
    "for i in range(1,12):\n",
    "    kmeans = KMeans(n_clusters = i, init = 'k-means++', random_state=42)\n",
    "    kmeans.fit(x)\n",
    "    ssd.append(kmeans.inertia_)\n",
    "\n",
    "plt.plot(ssd)"
   ]
  },
  {
   "cell_type": "markdown",
   "metadata": {},
   "source": [
    "### Notice how the elbow chart above does not have a clear elbow. Instead, we see a fairly smooth curve, and it's unclear what is the best value of k to choose. In cases like this, we might try a different method for determining the optimal k, such as computing silhouette scores\n",
    "\n",
    "### To explore we can choose K between 3 to 5 as there is a minor elbow at 3 and after 5 curve is smooth"
   ]
  },
  {
   "cell_type": "markdown",
   "metadata": {},
   "source": [
    "## Silhouette Score\n",
    "\n",
    "$$\\text{silhouette score}=\\frac{p-q}{max(p,q)}$$\n",
    "\n",
    "$p$ is the mean distance to the points in the nearest cluster that the data point is not a part of\n",
    "\n",
    "$q$ is the mean intra-cluster distance to all the points in its own cluster.\n",
    "\n",
    "* The value of the silhouette score range lies between -1 to 1. \n",
    "\n",
    "* A score closer to 1 indicates that the data point is very similar to other data points in the cluster, \n",
    "\n",
    "* A score closer to -1 indicates that the data point is not similar to the data points in its cluster."
   ]
  },
  {
   "cell_type": "code",
   "execution_count": 33,
   "metadata": {},
   "outputs": [],
   "source": [
    "from sklearn.metrics import silhouette_score\n",
    "sse_ = []\n",
    "for k in range(2, 15):\n",
    "    kmeans = KMeans(n_clusters=k, random_state=42).fit(x)\n",
    "    sse_.append([k, silhouette_score(x, kmeans.labels_)])"
   ]
  },
  {
   "cell_type": "code",
   "execution_count": 34,
   "metadata": {},
   "outputs": [
    {
     "data": {
      "image/png": "[encoded data removed]",
      "text/plain": [
       "<Figure size 432x288 with 1 Axes>"
      ]
     },
     "metadata": {
      "needs_background": "light"
     },
     "output_type": "display_data"
    }
   ],
   "source": [
    "plt.plot(pd.DataFrame(sse_)[0], pd.DataFrame(sse_)[1]);"
   ]
  },
  {
   "cell_type": "markdown",
   "metadata": {},
   "source": [
    "##### Notice from above plot we can consider 5 as optimal nummber for k."
   ]
  },
  {
   "cell_type": "markdown",
   "metadata": {},
   "source": [
    "### Fitting K means on the data set "
   ]
  },
  {
   "cell_type": "code",
   "execution_count": 35,
   "metadata": {},
   "outputs": [
    {
     "data": {
      "text/plain": [
       "<matplotlib.legend.Legend at 0x1a1bd02e48>"
      ]
     },
     "execution_count": 35,
     "metadata": {},
     "output_type": "execute_result"
    },
    {
     "data": {
      "image/png": "[encoded data removed]",
      "text/plain": [
       "<Figure size 1080x720 with 1 Axes>"
      ]
     },
     "metadata": {
      "needs_background": "light"
     },
     "output_type": "display_data"
    }
   ],
   "source": [
    "# Iteration-1 with k=3\n",
    "kmeans3 = KMeans(n_clusters = 3, init = 'k-means++', random_state=42, max_iter=1000)\n",
    "kmeans3.fit(help_pca)\n",
    "kmeans3.predict(help_pca)\n",
    "\n",
    "\n",
    "#Visualize clusters\n",
    "plt.figure(figsize=(15, 10))\n",
    "plt.scatter(help_pca.iloc[:,0], help_pca.iloc[:,1], c=kmeans3.labels_.astype(float))\n",
    "plt.scatter(kmeans3.cluster_centers_[:,0],kmeans3.cluster_centers_[:,1],s=100, c='red', label ='centroids')\n",
    "plt.legend()"
   ]
  },
  {
   "cell_type": "code",
   "execution_count": 36,
   "metadata": {},
   "outputs": [
    {
     "data": {
      "text/plain": [
       "<matplotlib.legend.Legend at 0x1a1bce7fd0>"
      ]
     },
     "execution_count": 36,
     "metadata": {},
     "output_type": "execute_result"
    },
    {
     "data": {
      "image/png": "[encoded data removed]",
      "text/plain": [
       "<Figure size 1080x720 with 1 Axes>"
      ]
     },
     "metadata": {
      "needs_background": "light"
     },
     "output_type": "display_data"
    }
   ],
   "source": [
    "# Iteration-2 with k=4\n",
    "kmeans4 = KMeans(n_clusters = 4, init = 'k-means++', random_state=42, max_iter=1000)\n",
    "kmeans4.fit(help_pca)\n",
    "kmeans4.predict(help_pca)\n",
    "\n",
    "\n",
    "#Visualize clusters\n",
    "plt.figure(figsize=(15, 10))\n",
    "plt.scatter(help_pca.values[:,0], help_pca.values[:,1], c=kmeans4.labels_.astype(float))\n",
    "plt.scatter(kmeans4.cluster_centers_[:,0],kmeans4.cluster_centers_[:,1],s=100, c='red', label ='centroids')\n",
    "plt.legend()"
   ]
  },
  {
   "cell_type": "code",
   "execution_count": 37,
   "metadata": {},
   "outputs": [
    {
     "name": "stdout",
     "output_type": "stream",
     "text": [
      "[[ 2.56102103 -0.82260669  0.05495355  0.93477554]\n",
      " [-2.42731973  0.41004245 -0.0958783   0.68963594]\n",
      " [ 0.21349789 -0.1165086   0.02522884 -0.74535992]\n",
      " [ 5.44385209  5.41618403  0.21101332  0.90334079]]\n"
     ]
    }
   ],
   "source": [
    "print(kmeans4.cluster_centers_)"
   ]
  },
  {
   "cell_type": "code",
   "execution_count": 38,
   "metadata": {},
   "outputs": [
    {
     "data": {
      "text/plain": [
       "<matplotlib.legend.Legend at 0x1a1bd117f0>"
      ]
     },
     "execution_count": 38,
     "metadata": {},
     "output_type": "execute_result"
    },
    {
     "data": {
      "image/png": "[encoded data removed]",
      "text/plain": [
       "<Figure size 1080x720 with 1 Axes>"
      ]
     },
     "metadata": {
      "needs_background": "light"
     },
     "output_type": "display_data"
    }
   ],
   "source": [
    "# Iteration-3 with k=5\n",
    "kmeans5 = KMeans(n_clusters = 5, init = 'k-means++', random_state=42, max_iter=1000)\n",
    "kmeans5.fit(help_pca)\n",
    "kmeans5.predict(help_pca)\n",
    "\n",
    "\n",
    "#Visualize clusters\n",
    "plt.figure(figsize=(15, 10))\n",
    "plt.scatter(help_pca.values[:,0], help_pca.values[:,1], c=kmeans5.labels_.astype(float))\n",
    "plt.scatter(kmeans5.cluster_centers_[:,0],kmeans5.cluster_centers_[:,1],s=100, c='red', label ='centroids')\n",
    "plt.legend()"
   ]
  },
  {
   "cell_type": "code",
   "execution_count": 39,
   "metadata": {},
   "outputs": [
    {
     "name": "stdout",
     "output_type": "stream",
     "text": [
      "[[ 0.63405379  0.33322618 -0.43873216 -0.76073238]\n",
      " [-2.42731973  0.41004245 -0.0958783   0.68963594]\n",
      " [ 2.60111153 -0.87919139  0.07258437  1.0296338 ]\n",
      " [-0.2707164  -0.7302306   0.65253064 -0.70770108]\n",
      " [ 5.44385209  5.41618403  0.21101332  0.90334079]]\n"
     ]
    }
   ],
   "source": [
    "print(kmeans5.cluster_centers_)"
   ]
  },
  {
   "cell_type": "code",
   "execution_count": 40,
   "metadata": {},
   "outputs": [
    {
     "data": {
      "text/html": [
       "<div>\n",
       "<style scoped>\n",
       "    .dataframe tbody tr th:only-of-type {\n",
       "        vertical-align: middle;\n",
       "    }\n",
       "\n",
       "    .dataframe tbody tr th {\n",
       "        vertical-align: top;\n",
       "    }\n",
       "\n",
       "    .dataframe thead th {\n",
       "        text-align: right;\n",
       "    }\n",
       "</style>\n",
       "<table border=\"1\" class=\"dataframe\">\n",
       "  <thead>\n",
       "    <tr style=\"text-align: right;\">\n",
       "      <th></th>\n",
       "      <th>PC1</th>\n",
       "      <th>PC2</th>\n",
       "      <th>PC3</th>\n",
       "      <th>PC4</th>\n",
       "    </tr>\n",
       "  </thead>\n",
       "  <tbody>\n",
       "    <tr>\n",
       "      <th>0</th>\n",
       "      <td>-2.904290</td>\n",
       "      <td>0.095334</td>\n",
       "      <td>-0.715965</td>\n",
       "      <td>1.002240</td>\n",
       "    </tr>\n",
       "    <tr>\n",
       "      <th>1</th>\n",
       "      <td>0.428622</td>\n",
       "      <td>-0.586392</td>\n",
       "      <td>-0.332486</td>\n",
       "      <td>-1.157577</td>\n",
       "    </tr>\n",
       "    <tr>\n",
       "      <th>2</th>\n",
       "      <td>-0.284370</td>\n",
       "      <td>-0.453810</td>\n",
       "      <td>1.217842</td>\n",
       "      <td>-0.865511</td>\n",
       "    </tr>\n",
       "    <tr>\n",
       "      <th>3</th>\n",
       "      <td>-2.923630</td>\n",
       "      <td>1.690471</td>\n",
       "      <td>1.520471</td>\n",
       "      <td>0.837107</td>\n",
       "    </tr>\n",
       "    <tr>\n",
       "      <th>4</th>\n",
       "      <td>1.030477</td>\n",
       "      <td>0.136249</td>\n",
       "      <td>-0.225044</td>\n",
       "      <td>-0.844523</td>\n",
       "    </tr>\n",
       "  </tbody>\n",
       "</table>\n",
       "</div>"
      ],
      "text/plain": [
       "        PC1       PC2       PC3       PC4\n",
       "0 -2.904290  0.095334 -0.715965  1.002240\n",
       "1  0.428622 -0.586392 -0.332486 -1.157577\n",
       "2 -0.284370 -0.453810  1.217842 -0.865511\n",
       "3 -2.923630  1.690471  1.520471  0.837107\n",
       "4  1.030477  0.136249 -0.225044 -0.844523"
      ]
     },
     "execution_count": 40,
     "metadata": {},
     "output_type": "execute_result"
    }
   ],
   "source": [
    "help_pca.head()"
   ]
  },
  {
   "cell_type": "code",
   "execution_count": 41,
   "metadata": {},
   "outputs": [
    {
     "data": {
      "text/html": [
       "<div>\n",
       "<style scoped>\n",
       "    .dataframe tbody tr th:only-of-type {\n",
       "        vertical-align: middle;\n",
       "    }\n",
       "\n",
       "    .dataframe tbody tr th {\n",
       "        vertical-align: top;\n",
       "    }\n",
       "\n",
       "    .dataframe thead th {\n",
       "        text-align: right;\n",
       "    }\n",
       "</style>\n",
       "<table border=\"1\" class=\"dataframe\">\n",
       "  <thead>\n",
       "    <tr style=\"text-align: right;\">\n",
       "      <th></th>\n",
       "      <th>PC1</th>\n",
       "      <th>PC2</th>\n",
       "      <th>PC3</th>\n",
       "      <th>PC4</th>\n",
       "      <th>cluster ID</th>\n",
       "    </tr>\n",
       "  </thead>\n",
       "  <tbody>\n",
       "    <tr>\n",
       "      <th>0</th>\n",
       "      <td>-2.904290</td>\n",
       "      <td>0.095334</td>\n",
       "      <td>-0.715965</td>\n",
       "      <td>1.002240</td>\n",
       "      <td>1</td>\n",
       "    </tr>\n",
       "    <tr>\n",
       "      <th>1</th>\n",
       "      <td>0.428622</td>\n",
       "      <td>-0.586392</td>\n",
       "      <td>-0.332486</td>\n",
       "      <td>-1.157577</td>\n",
       "      <td>0</td>\n",
       "    </tr>\n",
       "    <tr>\n",
       "      <th>2</th>\n",
       "      <td>-0.284370</td>\n",
       "      <td>-0.453810</td>\n",
       "      <td>1.217842</td>\n",
       "      <td>-0.865511</td>\n",
       "      <td>3</td>\n",
       "    </tr>\n",
       "    <tr>\n",
       "      <th>3</th>\n",
       "      <td>-2.923630</td>\n",
       "      <td>1.690471</td>\n",
       "      <td>1.520471</td>\n",
       "      <td>0.837107</td>\n",
       "      <td>1</td>\n",
       "    </tr>\n",
       "    <tr>\n",
       "      <th>4</th>\n",
       "      <td>1.030477</td>\n",
       "      <td>0.136249</td>\n",
       "      <td>-0.225044</td>\n",
       "      <td>-0.844523</td>\n",
       "      <td>0</td>\n",
       "    </tr>\n",
       "  </tbody>\n",
       "</table>\n",
       "</div>"
      ],
      "text/plain": [
       "        PC1       PC2       PC3       PC4  cluster ID\n",
       "0 -2.904290  0.095334 -0.715965  1.002240           1\n",
       "1  0.428622 -0.586392 -0.332486 -1.157577           0\n",
       "2 -0.284370 -0.453810  1.217842 -0.865511           3\n",
       "3 -2.923630  1.690471  1.520471  0.837107           1\n",
       "4  1.030477  0.136249 -0.225044 -0.844523           0"
      ]
     },
     "execution_count": 41,
     "metadata": {},
     "output_type": "execute_result"
    }
   ],
   "source": [
    "#Adding 'cluster ID' column to PCA dataframe\n",
    "help_pca_clusterID = help_pca\n",
    "help_pca_clusterID['cluster ID'] = kmeans5.labels_\n",
    "help_pca_clusterID.head()"
   ]
  },
  {
   "cell_type": "code",
   "execution_count": 42,
   "metadata": {},
   "outputs": [
    {
     "data": {
      "text/html": [
       "<div>\n",
       "<style scoped>\n",
       "    .dataframe tbody tr th:only-of-type {\n",
       "        vertical-align: middle;\n",
       "    }\n",
       "\n",
       "    .dataframe tbody tr th {\n",
       "        vertical-align: top;\n",
       "    }\n",
       "\n",
       "    .dataframe thead th {\n",
       "        text-align: right;\n",
       "    }\n",
       "</style>\n",
       "<table border=\"1\" class=\"dataframe\">\n",
       "  <thead>\n",
       "    <tr style=\"text-align: right;\">\n",
       "      <th></th>\n",
       "      <th>country</th>\n",
       "      <th>PC1</th>\n",
       "      <th>PC2</th>\n",
       "      <th>PC3</th>\n",
       "      <th>PC4</th>\n",
       "      <th>cluster ID</th>\n",
       "    </tr>\n",
       "  </thead>\n",
       "  <tbody>\n",
       "    <tr>\n",
       "      <th>0</th>\n",
       "      <td>Afghanistan</td>\n",
       "      <td>-2.904290</td>\n",
       "      <td>0.095334</td>\n",
       "      <td>-0.715965</td>\n",
       "      <td>1.002240</td>\n",
       "      <td>1</td>\n",
       "    </tr>\n",
       "    <tr>\n",
       "      <th>1</th>\n",
       "      <td>Albania</td>\n",
       "      <td>0.428622</td>\n",
       "      <td>-0.586392</td>\n",
       "      <td>-0.332486</td>\n",
       "      <td>-1.157577</td>\n",
       "      <td>0</td>\n",
       "    </tr>\n",
       "    <tr>\n",
       "      <th>2</th>\n",
       "      <td>Algeria</td>\n",
       "      <td>-0.284370</td>\n",
       "      <td>-0.453810</td>\n",
       "      <td>1.217842</td>\n",
       "      <td>-0.865511</td>\n",
       "      <td>3</td>\n",
       "    </tr>\n",
       "    <tr>\n",
       "      <th>3</th>\n",
       "      <td>Angola</td>\n",
       "      <td>-2.923630</td>\n",
       "      <td>1.690471</td>\n",
       "      <td>1.520471</td>\n",
       "      <td>0.837107</td>\n",
       "      <td>1</td>\n",
       "    </tr>\n",
       "    <tr>\n",
       "      <th>4</th>\n",
       "      <td>Antigua and Barbuda</td>\n",
       "      <td>1.030477</td>\n",
       "      <td>0.136249</td>\n",
       "      <td>-0.225044</td>\n",
       "      <td>-0.844523</td>\n",
       "      <td>0</td>\n",
       "    </tr>\n",
       "  </tbody>\n",
       "</table>\n",
       "</div>"
      ],
      "text/plain": [
       "               country       PC1       PC2       PC3       PC4  cluster ID\n",
       "0          Afghanistan -2.904290  0.095334 -0.715965  1.002240           1\n",
       "1              Albania  0.428622 -0.586392 -0.332486 -1.157577           0\n",
       "2              Algeria -0.284370 -0.453810  1.217842 -0.865511           3\n",
       "3               Angola -2.923630  1.690471  1.520471  0.837107           1\n",
       "4  Antigua and Barbuda  1.030477  0.136249 -0.225044 -0.844523           0"
      ]
     },
     "execution_count": 42,
     "metadata": {},
     "output_type": "execute_result"
    }
   ],
   "source": [
    "#Adding 'country' column to help_pca_clusterID dataframe\n",
    "help_pca_cluster = pd.concat([y, help_pca_clusterID], axis=1, join='outer', join_axes=None, ignore_index=False)\n",
    "help_pca_cluster.head()"
   ]
  },
  {
   "cell_type": "code",
   "execution_count": 43,
   "metadata": {},
   "outputs": [
    {
     "data": {
      "text/html": [
       "<div>\n",
       "<style scoped>\n",
       "    .dataframe tbody tr th:only-of-type {\n",
       "        vertical-align: middle;\n",
       "    }\n",
       "\n",
       "    .dataframe tbody tr th {\n",
       "        vertical-align: top;\n",
       "    }\n",
       "\n",
       "    .dataframe thead th {\n",
       "        text-align: right;\n",
       "    }\n",
       "</style>\n",
       "<table border=\"1\" class=\"dataframe\">\n",
       "  <thead>\n",
       "    <tr style=\"text-align: right;\">\n",
       "      <th></th>\n",
       "      <th>country</th>\n",
       "      <th>cluster ID</th>\n",
       "      <th>child_mort</th>\n",
       "      <th>exports</th>\n",
       "      <th>health</th>\n",
       "      <th>imports</th>\n",
       "      <th>income</th>\n",
       "      <th>inflation</th>\n",
       "      <th>life_expec</th>\n",
       "      <th>total_fer</th>\n",
       "      <th>gdpp</th>\n",
       "    </tr>\n",
       "  </thead>\n",
       "  <tbody>\n",
       "    <tr>\n",
       "      <th>0</th>\n",
       "      <td>Afghanistan</td>\n",
       "      <td>1</td>\n",
       "      <td>90.2</td>\n",
       "      <td>10.0</td>\n",
       "      <td>7.58</td>\n",
       "      <td>44.9</td>\n",
       "      <td>1610</td>\n",
       "      <td>9.44</td>\n",
       "      <td>56.2</td>\n",
       "      <td>5.82</td>\n",
       "      <td>553</td>\n",
       "    </tr>\n",
       "    <tr>\n",
       "      <th>1</th>\n",
       "      <td>Albania</td>\n",
       "      <td>0</td>\n",
       "      <td>16.6</td>\n",
       "      <td>28.0</td>\n",
       "      <td>6.55</td>\n",
       "      <td>48.6</td>\n",
       "      <td>9930</td>\n",
       "      <td>4.49</td>\n",
       "      <td>76.3</td>\n",
       "      <td>1.65</td>\n",
       "      <td>4090</td>\n",
       "    </tr>\n",
       "    <tr>\n",
       "      <th>2</th>\n",
       "      <td>Algeria</td>\n",
       "      <td>3</td>\n",
       "      <td>27.3</td>\n",
       "      <td>38.4</td>\n",
       "      <td>4.17</td>\n",
       "      <td>31.4</td>\n",
       "      <td>12900</td>\n",
       "      <td>16.10</td>\n",
       "      <td>76.5</td>\n",
       "      <td>2.89</td>\n",
       "      <td>4460</td>\n",
       "    </tr>\n",
       "    <tr>\n",
       "      <th>3</th>\n",
       "      <td>Angola</td>\n",
       "      <td>1</td>\n",
       "      <td>119.0</td>\n",
       "      <td>62.3</td>\n",
       "      <td>2.85</td>\n",
       "      <td>42.9</td>\n",
       "      <td>5900</td>\n",
       "      <td>22.40</td>\n",
       "      <td>60.1</td>\n",
       "      <td>6.16</td>\n",
       "      <td>3530</td>\n",
       "    </tr>\n",
       "    <tr>\n",
       "      <th>4</th>\n",
       "      <td>Antigua and Barbuda</td>\n",
       "      <td>0</td>\n",
       "      <td>10.3</td>\n",
       "      <td>45.5</td>\n",
       "      <td>6.03</td>\n",
       "      <td>58.9</td>\n",
       "      <td>19100</td>\n",
       "      <td>1.44</td>\n",
       "      <td>76.8</td>\n",
       "      <td>2.13</td>\n",
       "      <td>12200</td>\n",
       "    </tr>\n",
       "  </tbody>\n",
       "</table>\n",
       "</div>"
      ],
      "text/plain": [
       "               country  cluster ID  child_mort  exports  health  imports  \\\n",
       "0          Afghanistan           1        90.2     10.0    7.58     44.9   \n",
       "1              Albania           0        16.6     28.0    6.55     48.6   \n",
       "2              Algeria           3        27.3     38.4    4.17     31.4   \n",
       "3               Angola           1       119.0     62.3    2.85     42.9   \n",
       "4  Antigua and Barbuda           0        10.3     45.5    6.03     58.9   \n",
       "\n",
       "   income  inflation  life_expec  total_fer   gdpp  \n",
       "0    1610       9.44        56.2       5.82    553  \n",
       "1    9930       4.49        76.3       1.65   4090  \n",
       "2   12900      16.10        76.5       2.89   4460  \n",
       "3    5900      22.40        60.1       6.16   3530  \n",
       "4   19100       1.44        76.8       2.13  12200  "
      ]
     },
     "execution_count": 43,
     "metadata": {},
     "output_type": "execute_result"
    }
   ],
   "source": [
    "#Removing PC's from help_pca_cluster dataframe and adding original socio-economic data to help_pca_cluster dataframe\n",
    "help_pca_cluster = help_pca_cluster[['country', 'cluster ID']].merge(help, on = 'country')\n",
    "help_pca_cluster.head()"
   ]
  },
  {
   "cell_type": "code",
   "execution_count": 45,
   "metadata": {},
   "outputs": [],
   "source": [
    "#Calculating mean of each variable grouped by 'cluster ID'\n",
    "help_clusters_child_mort = pd.DataFrame(help_pca_cluster.groupby(['cluster ID']).child_mort.mean())\n",
    "help_clusters_exports = pd.DataFrame(help_pca_cluster.groupby(['cluster ID']).exports.mean())\n",
    "help_clusters_health = pd.DataFrame(help_pca_cluster.groupby(['cluster ID']).health.mean())\n",
    "help_clusters_imports = pd.DataFrame(help_pca_cluster.groupby(['cluster ID']).imports.mean())\n",
    "help_clusters_income = pd.DataFrame(help_pca_cluster.groupby(['cluster ID']).income.mean())\n",
    "help_clusters_inflation = pd.DataFrame(help_pca_cluster.groupby(['cluster ID']).inflation.mean())\n",
    "help_clusters_life_expec = pd.DataFrame(help_pca_cluster.groupby(['cluster ID']).life_expec.mean())\n",
    "help_clusters_total_fer = pd.DataFrame(help_pca_cluster.groupby(['cluster ID']).total_fer.mean())\n",
    "help_clusters_gdpp = pd.DataFrame(help_pca_cluster.groupby(['cluster ID']).gdpp.mean())"
   ]
  },
  {
   "cell_type": "code",
   "execution_count": 46,
   "metadata": {},
   "outputs": [],
   "source": [
    "#Creating a dataframe from the mean data\n",
    "help_kmean= pd.concat([pd.Series(list(range(0,5))), help_clusters_child_mort,help_clusters_exports, help_clusters_health, \n",
    "                        help_clusters_imports,help_clusters_income, help_clusters_inflation, help_clusters_life_expec,\n",
    "                        help_clusters_total_fer,help_clusters_gdpp], axis=1)\n",
    "help_kmean.columns = [\"ClusterID\", \"child_mort_mean\", \"exports_mean\", \"health_mean\", \"imports_mean\", \"income_mean\", \"inflation_mean\",\n",
    "               \"life_expec_mean\", \"total_fer_mean\", \"gdpp_mean\"]\n"
   ]
  },
  {
   "cell_type": "code",
   "execution_count": 47,
   "metadata": {},
   "outputs": [
    {
     "data": {
      "text/html": [
       "<div>\n",
       "<style scoped>\n",
       "    .dataframe tbody tr th:only-of-type {\n",
       "        vertical-align: middle;\n",
       "    }\n",
       "\n",
       "    .dataframe tbody tr th {\n",
       "        vertical-align: top;\n",
       "    }\n",
       "\n",
       "    .dataframe thead th {\n",
       "        text-align: right;\n",
       "    }\n",
       "</style>\n",
       "<table border=\"1\" class=\"dataframe\">\n",
       "  <thead>\n",
       "    <tr style=\"text-align: right;\">\n",
       "      <th></th>\n",
       "      <th>ClusterID</th>\n",
       "      <th>child_mort_mean</th>\n",
       "      <th>exports_mean</th>\n",
       "      <th>health_mean</th>\n",
       "      <th>imports_mean</th>\n",
       "      <th>income_mean</th>\n",
       "      <th>inflation_mean</th>\n",
       "      <th>life_expec_mean</th>\n",
       "      <th>total_fer_mean</th>\n",
       "      <th>gdpp_mean</th>\n",
       "    </tr>\n",
       "  </thead>\n",
       "  <tbody>\n",
       "    <tr>\n",
       "      <th>0</th>\n",
       "      <td>0</td>\n",
       "      <td>17.241176</td>\n",
       "      <td>50.378431</td>\n",
       "      <td>6.937451</td>\n",
       "      <td>60.394118</td>\n",
       "      <td>13308.235294</td>\n",
       "      <td>3.873627</td>\n",
       "      <td>73.198039</td>\n",
       "      <td>2.137451</td>\n",
       "      <td>7723.450980</td>\n",
       "    </tr>\n",
       "    <tr>\n",
       "      <th>1</th>\n",
       "      <td>1</td>\n",
       "      <td>92.961702</td>\n",
       "      <td>29.151277</td>\n",
       "      <td>6.388511</td>\n",
       "      <td>42.323404</td>\n",
       "      <td>3942.404255</td>\n",
       "      <td>12.019681</td>\n",
       "      <td>59.187234</td>\n",
       "      <td>5.008085</td>\n",
       "      <td>1922.382979</td>\n",
       "    </tr>\n",
       "    <tr>\n",
       "      <th>2</th>\n",
       "      <td>2</td>\n",
       "      <td>4.982759</td>\n",
       "      <td>45.703448</td>\n",
       "      <td>9.245862</td>\n",
       "      <td>39.513793</td>\n",
       "      <td>45762.068966</td>\n",
       "      <td>2.727793</td>\n",
       "      <td>80.386207</td>\n",
       "      <td>1.814828</td>\n",
       "      <td>44065.517241</td>\n",
       "    </tr>\n",
       "    <tr>\n",
       "      <th>3</th>\n",
       "      <td>3</td>\n",
       "      <td>26.640541</td>\n",
       "      <td>28.983486</td>\n",
       "      <td>5.287568</td>\n",
       "      <td>30.958538</td>\n",
       "      <td>12971.621622</td>\n",
       "      <td>12.177730</td>\n",
       "      <td>72.767568</td>\n",
       "      <td>2.463514</td>\n",
       "      <td>6220.702703</td>\n",
       "    </tr>\n",
       "    <tr>\n",
       "      <th>4</th>\n",
       "      <td>4</td>\n",
       "      <td>4.133333</td>\n",
       "      <td>176.000000</td>\n",
       "      <td>6.793333</td>\n",
       "      <td>156.666667</td>\n",
       "      <td>64033.333333</td>\n",
       "      <td>2.468000</td>\n",
       "      <td>81.433333</td>\n",
       "      <td>1.380000</td>\n",
       "      <td>57566.666667</td>\n",
       "    </tr>\n",
       "  </tbody>\n",
       "</table>\n",
       "</div>"
      ],
      "text/plain": [
       "   ClusterID  child_mort_mean  exports_mean  health_mean  imports_mean  \\\n",
       "0          0        17.241176     50.378431     6.937451     60.394118   \n",
       "1          1        92.961702     29.151277     6.388511     42.323404   \n",
       "2          2         4.982759     45.703448     9.245862     39.513793   \n",
       "3          3        26.640541     28.983486     5.287568     30.958538   \n",
       "4          4         4.133333    176.000000     6.793333    156.666667   \n",
       "\n",
       "    income_mean  inflation_mean  life_expec_mean  total_fer_mean     gdpp_mean  \n",
       "0  13308.235294        3.873627        73.198039        2.137451   7723.450980  \n",
       "1   3942.404255       12.019681        59.187234        5.008085   1922.382979  \n",
       "2  45762.068966        2.727793        80.386207        1.814828  44065.517241  \n",
       "3  12971.621622       12.177730        72.767568        2.463514   6220.702703  \n",
       "4  64033.333333        2.468000        81.433333        1.380000  57566.666667  "
      ]
     },
     "execution_count": 47,
     "metadata": {},
     "output_type": "execute_result"
    }
   ],
   "source": [
    "help_kmean"
   ]
  },
  {
   "cell_type": "code",
   "execution_count": 48,
   "metadata": {},
   "outputs": [
    {
     "data": {
      "image/png": "[encoded data removed]",
      "text/plain": [
       "<Figure size 1440x1080 with 9 Axes>"
      ]
     },
     "metadata": {
      "needs_background": "light"
     },
     "output_type": "display_data"
    }
   ],
   "source": [
    "#plotting bar chart \n",
    "fig, axs = plt.subplots(3,3,figsize = (20,15))\n",
    "\n",
    "#Cluster analysis on Child_mort\n",
    "plt1 = sns.barplot(x=help_kmean.ClusterID, y=help_kmean.child_mort_mean, ax = axs[0,0])\n",
    "plt1.set(title = 'Cluster analysis on Child_mort', xlabel = '', ylabel= 'Mean_child_mort')\n",
    "\n",
    "#Cluster analysis on Exports\n",
    "plt2 = sns.barplot(x=help_kmean.ClusterID, y=help_kmean.exports_mean, ax = axs[0,1])\n",
    "plt2.set(title = 'Cluster analysis on Exports', xlabel = '', ylabel= 'Mean_exports')\n",
    "\n",
    "#Cluster analysis on Health_Spending\n",
    "plt3 = sns.barplot(x=help_kmean.ClusterID, y=help_kmean.health_mean, ax = axs[0,2])\n",
    "plt3.set(title = 'Cluster analysis on Health_Spending', xlabel = '', ylabel= 'Mean_health_spending')\n",
    "\n",
    "#Cluster analysis on Imports\n",
    "plt4 = sns.barplot(x=help_kmean.ClusterID, y=help_kmean.imports_mean, ax = axs[1,0])\n",
    "plt4.set(title = 'Cluster analysis on Imports', xlabel = '', ylabel= 'Mean_imports')\n",
    "\n",
    "#Cluster analysis on Income\n",
    "plt5 = sns.barplot(x=help_kmean.ClusterID, y=help_kmean.income_mean, ax = axs[1,1])\n",
    "plt5.set(title = 'Cluster analysis on Income', xlabel = '', ylabel= 'Mean_income')\n",
    "\n",
    "#Cluster analysis on Life_Exp\n",
    "plt6 = sns.barplot(x=help_kmean.ClusterID, y=help_kmean.life_expec_mean, ax = axs[1,2])\n",
    "plt6.set(title = 'Cluster analysis on Life_Exp', xlabel = '', ylabel= 'Mean_life_exp')\n",
    "\n",
    "#Cluster analysis on Inflation\n",
    "plt7= sns.barplot(x=help_kmean.ClusterID, y=help_kmean.inflation_mean, ax = axs[2,0])\n",
    "plt7.set(title = 'Cluster analysis on Inflation', xlabel = '', ylabel= 'Mean_inflation')\n",
    "\n",
    "#Cluster analysis on Fertility\n",
    "plt8 = sns.barplot(x=help_kmean.ClusterID, y=help_kmean.total_fer_mean, ax = axs[2,1])\n",
    "plt8.set(title = 'Cluster analysis on Fertility', xlabel = '', ylabel= 'Mean_total_fert')\n",
    "\n",
    "#Cluster analysis on gdpp\n",
    "plt9 = sns.barplot(x=help_kmean.ClusterID, y=help_kmean.gdpp_mean, ax = axs[2,2])\n",
    "plt9.set(title = 'Cluster analysis on gdpp', xlabel = '', ylabel= 'Mean_gdpp')\n",
    "\n",
    "plt.tight_layout()\n",
    "plt.show()"
   ]
  },
  {
   "cell_type": "markdown",
   "metadata": {},
   "source": [
    "####  From above plots it is evident that Cluster with ClusterID 1, is the cluster which consists of under developed countries and cluster with  ClusterID 4, is the cluster which consists of developed countries"
   ]
  },
  {
   "cell_type": "code",
   "execution_count": 49,
   "metadata": {},
   "outputs": [
    {
     "data": {
      "text/plain": [
       "array(['Afghanistan', 'Angola', 'Benin', 'Botswana', 'Burkina Faso',\n",
       "       'Burundi', 'Cameroon', 'Central African Republic', 'Chad',\n",
       "       'Comoros', 'Congo, Dem. Rep.', 'Congo, Rep.', \"Cote d'Ivoire\",\n",
       "       'Equatorial Guinea', 'Eritrea', 'Gabon', 'Gambia', 'Ghana',\n",
       "       'Guinea', 'Guinea-Bissau', 'Haiti', 'Iraq', 'Kenya', 'Kiribati',\n",
       "       'Lao', 'Lesotho', 'Liberia', 'Madagascar', 'Malawi', 'Mali',\n",
       "       'Mauritania', 'Mozambique', 'Namibia', 'Niger', 'Nigeria',\n",
       "       'Pakistan', 'Rwanda', 'Senegal', 'Sierra Leone', 'South Africa',\n",
       "       'Sudan', 'Tanzania', 'Timor-Leste', 'Togo', 'Uganda', 'Yemen',\n",
       "       'Zambia'], dtype=object)"
      ]
     },
     "execution_count": 49,
     "metadata": {},
     "output_type": "execute_result"
    }
   ],
   "source": [
    "#From above plot it is evident that custer 1 is the cluster which needs aid at the most. Let's find list of countries\n",
    "help_pca_cluster[help_pca_cluster['cluster ID'] == 1].country.values"
   ]
  },
  {
   "cell_type": "markdown",
   "metadata": {},
   "source": [
    "#### Above is the list of countries which are need of aid at most"
   ]
  },
  {
   "cell_type": "markdown",
   "metadata": {},
   "source": [
    "#### To find the Top 5 countries within cluster 1 we will consider 'child_mort', 'inflation', & 'total_fer' as factors to select top 5 countries as if the the countries which have high sum of these 3 columns can be considered as top 5."
   ]
  },
  {
   "cell_type": "code",
   "execution_count": 50,
   "metadata": {},
   "outputs": [
    {
     "data": {
      "text/html": [
       "<div>\n",
       "<style scoped>\n",
       "    .dataframe tbody tr th:only-of-type {\n",
       "        vertical-align: middle;\n",
       "    }\n",
       "\n",
       "    .dataframe tbody tr th {\n",
       "        vertical-align: top;\n",
       "    }\n",
       "\n",
       "    .dataframe thead th {\n",
       "        text-align: right;\n",
       "    }\n",
       "</style>\n",
       "<table border=\"1\" class=\"dataframe\">\n",
       "  <thead>\n",
       "    <tr style=\"text-align: right;\">\n",
       "      <th></th>\n",
       "      <th>country</th>\n",
       "      <th>cluster ID</th>\n",
       "      <th>child_mort</th>\n",
       "      <th>exports</th>\n",
       "      <th>health</th>\n",
       "      <th>imports</th>\n",
       "      <th>income</th>\n",
       "      <th>inflation</th>\n",
       "      <th>life_expec</th>\n",
       "      <th>total_fer</th>\n",
       "      <th>gdpp</th>\n",
       "      <th>sum</th>\n",
       "    </tr>\n",
       "  </thead>\n",
       "  <tbody>\n",
       "    <tr>\n",
       "      <th>113</th>\n",
       "      <td>Nigeria</td>\n",
       "      <td>1</td>\n",
       "      <td>130.0</td>\n",
       "      <td>25.3</td>\n",
       "      <td>5.07</td>\n",
       "      <td>17.4</td>\n",
       "      <td>5150</td>\n",
       "      <td>104.00</td>\n",
       "      <td>60.5</td>\n",
       "      <td>5.84</td>\n",
       "      <td>2330</td>\n",
       "      <td>239.84</td>\n",
       "    </tr>\n",
       "    <tr>\n",
       "      <th>66</th>\n",
       "      <td>Haiti</td>\n",
       "      <td>1</td>\n",
       "      <td>208.0</td>\n",
       "      <td>15.3</td>\n",
       "      <td>6.91</td>\n",
       "      <td>64.7</td>\n",
       "      <td>1500</td>\n",
       "      <td>5.45</td>\n",
       "      <td>32.1</td>\n",
       "      <td>3.33</td>\n",
       "      <td>662</td>\n",
       "      <td>216.78</td>\n",
       "    </tr>\n",
       "    <tr>\n",
       "      <th>132</th>\n",
       "      <td>Sierra Leone</td>\n",
       "      <td>1</td>\n",
       "      <td>160.0</td>\n",
       "      <td>16.8</td>\n",
       "      <td>13.10</td>\n",
       "      <td>34.5</td>\n",
       "      <td>1220</td>\n",
       "      <td>17.20</td>\n",
       "      <td>55.0</td>\n",
       "      <td>5.20</td>\n",
       "      <td>399</td>\n",
       "      <td>182.40</td>\n",
       "    </tr>\n",
       "    <tr>\n",
       "      <th>32</th>\n",
       "      <td>Chad</td>\n",
       "      <td>1</td>\n",
       "      <td>150.0</td>\n",
       "      <td>36.8</td>\n",
       "      <td>4.53</td>\n",
       "      <td>43.5</td>\n",
       "      <td>1930</td>\n",
       "      <td>6.39</td>\n",
       "      <td>56.5</td>\n",
       "      <td>6.59</td>\n",
       "      <td>897</td>\n",
       "      <td>162.98</td>\n",
       "    </tr>\n",
       "    <tr>\n",
       "      <th>31</th>\n",
       "      <td>Central African Republic</td>\n",
       "      <td>1</td>\n",
       "      <td>149.0</td>\n",
       "      <td>11.8</td>\n",
       "      <td>3.98</td>\n",
       "      <td>26.5</td>\n",
       "      <td>888</td>\n",
       "      <td>2.01</td>\n",
       "      <td>47.5</td>\n",
       "      <td>5.21</td>\n",
       "      <td>446</td>\n",
       "      <td>156.22</td>\n",
       "    </tr>\n",
       "    <tr>\n",
       "      <th>97</th>\n",
       "      <td>Mali</td>\n",
       "      <td>1</td>\n",
       "      <td>137.0</td>\n",
       "      <td>22.8</td>\n",
       "      <td>4.98</td>\n",
       "      <td>35.1</td>\n",
       "      <td>1870</td>\n",
       "      <td>4.37</td>\n",
       "      <td>59.5</td>\n",
       "      <td>6.55</td>\n",
       "      <td>708</td>\n",
       "      <td>147.92</td>\n",
       "    </tr>\n",
       "    <tr>\n",
       "      <th>3</th>\n",
       "      <td>Angola</td>\n",
       "      <td>1</td>\n",
       "      <td>119.0</td>\n",
       "      <td>62.3</td>\n",
       "      <td>2.85</td>\n",
       "      <td>42.9</td>\n",
       "      <td>5900</td>\n",
       "      <td>22.40</td>\n",
       "      <td>60.1</td>\n",
       "      <td>6.16</td>\n",
       "      <td>3530</td>\n",
       "      <td>147.56</td>\n",
       "    </tr>\n",
       "    <tr>\n",
       "      <th>37</th>\n",
       "      <td>Congo, Dem. Rep.</td>\n",
       "      <td>1</td>\n",
       "      <td>116.0</td>\n",
       "      <td>41.1</td>\n",
       "      <td>7.91</td>\n",
       "      <td>49.6</td>\n",
       "      <td>609</td>\n",
       "      <td>20.80</td>\n",
       "      <td>57.5</td>\n",
       "      <td>6.54</td>\n",
       "      <td>334</td>\n",
       "      <td>143.34</td>\n",
       "    </tr>\n",
       "    <tr>\n",
       "      <th>49</th>\n",
       "      <td>Equatorial Guinea</td>\n",
       "      <td>1</td>\n",
       "      <td>111.0</td>\n",
       "      <td>85.8</td>\n",
       "      <td>4.48</td>\n",
       "      <td>58.9</td>\n",
       "      <td>33700</td>\n",
       "      <td>24.90</td>\n",
       "      <td>60.9</td>\n",
       "      <td>5.21</td>\n",
       "      <td>17100</td>\n",
       "      <td>141.11</td>\n",
       "    </tr>\n",
       "    <tr>\n",
       "      <th>112</th>\n",
       "      <td>Niger</td>\n",
       "      <td>1</td>\n",
       "      <td>123.0</td>\n",
       "      <td>22.2</td>\n",
       "      <td>5.16</td>\n",
       "      <td>49.1</td>\n",
       "      <td>814</td>\n",
       "      <td>2.55</td>\n",
       "      <td>58.8</td>\n",
       "      <td>7.49</td>\n",
       "      <td>348</td>\n",
       "      <td>133.04</td>\n",
       "    </tr>\n",
       "  </tbody>\n",
       "</table>\n",
       "</div>"
      ],
      "text/plain": [
       "                      country  cluster ID  child_mort  exports  health  \\\n",
       "113                   Nigeria           1       130.0     25.3    5.07   \n",
       "66                      Haiti           1       208.0     15.3    6.91   \n",
       "132              Sierra Leone           1       160.0     16.8   13.10   \n",
       "32                       Chad           1       150.0     36.8    4.53   \n",
       "31   Central African Republic           1       149.0     11.8    3.98   \n",
       "97                       Mali           1       137.0     22.8    4.98   \n",
       "3                      Angola           1       119.0     62.3    2.85   \n",
       "37           Congo, Dem. Rep.           1       116.0     41.1    7.91   \n",
       "49          Equatorial Guinea           1       111.0     85.8    4.48   \n",
       "112                     Niger           1       123.0     22.2    5.16   \n",
       "\n",
       "     imports  income  inflation  life_expec  total_fer   gdpp     sum  \n",
       "113     17.4    5150     104.00        60.5       5.84   2330  239.84  \n",
       "66      64.7    1500       5.45        32.1       3.33    662  216.78  \n",
       "132     34.5    1220      17.20        55.0       5.20    399  182.40  \n",
       "32      43.5    1930       6.39        56.5       6.59    897  162.98  \n",
       "31      26.5     888       2.01        47.5       5.21    446  156.22  \n",
       "97      35.1    1870       4.37        59.5       6.55    708  147.92  \n",
       "3       42.9    5900      22.40        60.1       6.16   3530  147.56  \n",
       "37      49.6     609      20.80        57.5       6.54    334  143.34  \n",
       "49      58.9   33700      24.90        60.9       5.21  17100  141.11  \n",
       "112     49.1     814       2.55        58.8       7.49    348  133.04  "
      ]
     },
     "execution_count": 50,
     "metadata": {},
     "output_type": "execute_result"
    }
   ],
   "source": [
    "help_pca_top5 = help_pca_cluster[help_pca_cluster['cluster ID'] == 1]\n",
    "help_pca_top5['sum'] = help_pca_top5['child_mort'] + help_pca_top5['inflation'] + help_pca_top5['total_fer']\n",
    "\n",
    "help_pca_top5 = help_pca_top5.sort_values(by='sum', ascending=False)\n",
    "help_pca_top5.head(10)\n"
   ]
  },
  {
   "cell_type": "code",
   "execution_count": 51,
   "metadata": {},
   "outputs": [
    {
     "data": {
      "image/png": "[encoded data removed]",
      "text/plain": [
       "<Figure size 432x288 with 1 Axes>"
      ]
     },
     "metadata": {
      "needs_background": "light"
     },
     "output_type": "display_data"
    }
   ],
   "source": [
    "import matplotlib.pyplot as plt\n",
    "bar = sns.barplot(x=\"sum\", y=\"country\", data=help_pca_top5)\n",
    "plt.rcParams['figure.figsize']=(40,15)"
   ]
  },
  {
   "cell_type": "code",
   "execution_count": 52,
   "metadata": {},
   "outputs": [
    {
     "data": {
      "text/html": [
       "<div>\n",
       "<style scoped>\n",
       "    .dataframe tbody tr th:only-of-type {\n",
       "        vertical-align: middle;\n",
       "    }\n",
       "\n",
       "    .dataframe tbody tr th {\n",
       "        vertical-align: top;\n",
       "    }\n",
       "\n",
       "    .dataframe thead th {\n",
       "        text-align: right;\n",
       "    }\n",
       "</style>\n",
       "<table border=\"1\" class=\"dataframe\">\n",
       "  <thead>\n",
       "    <tr style=\"text-align: right;\">\n",
       "      <th></th>\n",
       "      <th>country</th>\n",
       "      <th>cluster ID</th>\n",
       "      <th>child_mort</th>\n",
       "      <th>exports</th>\n",
       "      <th>health</th>\n",
       "      <th>imports</th>\n",
       "      <th>income</th>\n",
       "      <th>inflation</th>\n",
       "      <th>life_expec</th>\n",
       "      <th>total_fer</th>\n",
       "      <th>gdpp</th>\n",
       "      <th>sum</th>\n",
       "    </tr>\n",
       "  </thead>\n",
       "  <tbody>\n",
       "    <tr>\n",
       "      <th>113</th>\n",
       "      <td>Nigeria</td>\n",
       "      <td>1</td>\n",
       "      <td>130.0</td>\n",
       "      <td>25.3</td>\n",
       "      <td>5.07</td>\n",
       "      <td>17.4</td>\n",
       "      <td>5150</td>\n",
       "      <td>104.00</td>\n",
       "      <td>60.5</td>\n",
       "      <td>5.84</td>\n",
       "      <td>2330</td>\n",
       "      <td>239.84</td>\n",
       "    </tr>\n",
       "    <tr>\n",
       "      <th>66</th>\n",
       "      <td>Haiti</td>\n",
       "      <td>1</td>\n",
       "      <td>208.0</td>\n",
       "      <td>15.3</td>\n",
       "      <td>6.91</td>\n",
       "      <td>64.7</td>\n",
       "      <td>1500</td>\n",
       "      <td>5.45</td>\n",
       "      <td>32.1</td>\n",
       "      <td>3.33</td>\n",
       "      <td>662</td>\n",
       "      <td>216.78</td>\n",
       "    </tr>\n",
       "    <tr>\n",
       "      <th>132</th>\n",
       "      <td>Sierra Leone</td>\n",
       "      <td>1</td>\n",
       "      <td>160.0</td>\n",
       "      <td>16.8</td>\n",
       "      <td>13.10</td>\n",
       "      <td>34.5</td>\n",
       "      <td>1220</td>\n",
       "      <td>17.20</td>\n",
       "      <td>55.0</td>\n",
       "      <td>5.20</td>\n",
       "      <td>399</td>\n",
       "      <td>182.40</td>\n",
       "    </tr>\n",
       "    <tr>\n",
       "      <th>32</th>\n",
       "      <td>Chad</td>\n",
       "      <td>1</td>\n",
       "      <td>150.0</td>\n",
       "      <td>36.8</td>\n",
       "      <td>4.53</td>\n",
       "      <td>43.5</td>\n",
       "      <td>1930</td>\n",
       "      <td>6.39</td>\n",
       "      <td>56.5</td>\n",
       "      <td>6.59</td>\n",
       "      <td>897</td>\n",
       "      <td>162.98</td>\n",
       "    </tr>\n",
       "    <tr>\n",
       "      <th>31</th>\n",
       "      <td>Central African Republic</td>\n",
       "      <td>1</td>\n",
       "      <td>149.0</td>\n",
       "      <td>11.8</td>\n",
       "      <td>3.98</td>\n",
       "      <td>26.5</td>\n",
       "      <td>888</td>\n",
       "      <td>2.01</td>\n",
       "      <td>47.5</td>\n",
       "      <td>5.21</td>\n",
       "      <td>446</td>\n",
       "      <td>156.22</td>\n",
       "    </tr>\n",
       "  </tbody>\n",
       "</table>\n",
       "</div>"
      ],
      "text/plain": [
       "                      country  cluster ID  child_mort  exports  health  \\\n",
       "113                   Nigeria           1       130.0     25.3    5.07   \n",
       "66                      Haiti           1       208.0     15.3    6.91   \n",
       "132              Sierra Leone           1       160.0     16.8   13.10   \n",
       "32                       Chad           1       150.0     36.8    4.53   \n",
       "31   Central African Republic           1       149.0     11.8    3.98   \n",
       "\n",
       "     imports  income  inflation  life_expec  total_fer  gdpp     sum  \n",
       "113     17.4    5150     104.00        60.5       5.84  2330  239.84  \n",
       "66      64.7    1500       5.45        32.1       3.33   662  216.78  \n",
       "132     34.5    1220      17.20        55.0       5.20   399  182.40  \n",
       "32      43.5    1930       6.39        56.5       6.59   897  162.98  \n",
       "31      26.5     888       2.01        47.5       5.21   446  156.22  "
      ]
     },
     "execution_count": 52,
     "metadata": {},
     "output_type": "execute_result"
    }
   ],
   "source": [
    "top5_kmeans = help_pca_top5.iloc[0:5]\n",
    "top5_kmeans"
   ]
  },
  {
   "cell_type": "code",
   "execution_count": 53,
   "metadata": {},
   "outputs": [
    {
     "data": {
      "text/plain": [
       "<matplotlib.axes._subplots.AxesSubplot at 0x1a186fccc0>"
      ]
     },
     "execution_count": 53,
     "metadata": {},
     "output_type": "execute_result"
    },
    {
     "data": {
      "image/png": "[encoded data removed]",
      "text/plain": [
       "<Figure size 2880x1080 with 1 Axes>"
      ]
     },
     "metadata": {
      "needs_background": "light"
     },
     "output_type": "display_data"
    }
   ],
   "source": [
    "top5_bar = sns.barplot(x=\"country\", y=\"sum\", data=top5_kmeans)\n",
    "top5_bar"
   ]
  },
  {
   "cell_type": "code",
   "execution_count": 54,
   "metadata": {},
   "outputs": [
    {
     "data": {
      "text/plain": [
       "array(['Luxembourg', 'Malta', 'Singapore'], dtype=object)"
      ]
     },
     "execution_count": 54,
     "metadata": {},
     "output_type": "execute_result"
    }
   ],
   "source": [
    "help_pca_cluster[help_pca_cluster['cluster ID'] == 4].country.values"
   ]
  },
  {
   "cell_type": "code",
   "execution_count": 55,
   "metadata": {},
   "outputs": [
    {
     "data": {
      "text/plain": [
       "array(['Australia', 'Austria', 'Belgium', 'Brunei', 'Canada', 'Cyprus',\n",
       "       'Denmark', 'Finland', 'France', 'Germany', 'Greece', 'Iceland',\n",
       "       'Ireland', 'Israel', 'Italy', 'Japan', 'Kuwait', 'Netherlands',\n",
       "       'New Zealand', 'Norway', 'Portugal', 'Qatar', 'Slovenia', 'Spain',\n",
       "       'Sweden', 'Switzerland', 'United Arab Emirates', 'United Kingdom',\n",
       "       'United States'], dtype=object)"
      ]
     },
     "execution_count": 55,
     "metadata": {},
     "output_type": "execute_result"
    }
   ],
   "source": [
    "help_pca_cluster[help_pca_cluster['cluster ID'] == 2].country.values"
   ]
  },
  {
   "cell_type": "markdown",
   "metadata": {},
   "source": [
    "#### Above is the list of developed countries which doesn't require financial aid"
   ]
  },
  {
   "cell_type": "markdown",
   "metadata": {},
   "source": [
    "### Fitting Hierarchical clustering on the data set"
   ]
  },
  {
   "cell_type": "code",
   "execution_count": 56,
   "metadata": {},
   "outputs": [
    {
     "data": {
      "image/png": "[encoded data removed]",
      "text/plain": [
       "<Figure size 2880x1080 with 1 Axes>"
      ]
     },
     "metadata": {
      "needs_background": "light"
     },
     "output_type": "display_data"
    }
   ],
   "source": [
    "from scipy.cluster.hierarchy import linkage\n",
    "from scipy.cluster.hierarchy import dendrogram\n",
    "\n",
    "\n",
    "help_hier = linkage(help_pca_h, method = \"complete\", metric='euclidean')\n",
    "dendrogram(help_hier)\n",
    "plt.title('Dendogram')\n",
    "plt.show()"
   ]
  },
  {
   "attachments": {
    "image.png": {
     "image/png": "[encoded data removed]"
    }
   },
   "cell_type": "markdown",
   "metadata": {},
   "source": [
    "#### From above dendogram it can be observed that alogorithm has clustered data into 3 clusters by default(3 different colors). But to avoid underfitting but to get the better accuracy we will find out the number of clusters by checking  the largest vertical distance without any horizontal line passing through it . So we draw a new horizontal black line that passes through the blue line. Since it crosses the blue line at four points, therefore the number of clusters will be 4.\n",
    "\n",
    "![image.png](attachment:image.png)"
   ]
  },
  {
   "cell_type": "code",
   "execution_count": 57,
   "metadata": {},
   "outputs": [
    {
     "data": {
      "text/html": [
       "<div>\n",
       "<style scoped>\n",
       "    .dataframe tbody tr th:only-of-type {\n",
       "        vertical-align: middle;\n",
       "    }\n",
       "\n",
       "    .dataframe tbody tr th {\n",
       "        vertical-align: top;\n",
       "    }\n",
       "\n",
       "    .dataframe thead th {\n",
       "        text-align: right;\n",
       "    }\n",
       "</style>\n",
       "<table border=\"1\" class=\"dataframe\">\n",
       "  <thead>\n",
       "    <tr style=\"text-align: right;\">\n",
       "      <th></th>\n",
       "      <th>PC1</th>\n",
       "      <th>PC2</th>\n",
       "      <th>PC3</th>\n",
       "      <th>PC4</th>\n",
       "    </tr>\n",
       "  </thead>\n",
       "  <tbody>\n",
       "    <tr>\n",
       "      <th>0</th>\n",
       "      <td>-2.904290</td>\n",
       "      <td>0.095334</td>\n",
       "      <td>-0.715965</td>\n",
       "      <td>1.002240</td>\n",
       "    </tr>\n",
       "    <tr>\n",
       "      <th>1</th>\n",
       "      <td>0.428622</td>\n",
       "      <td>-0.586392</td>\n",
       "      <td>-0.332486</td>\n",
       "      <td>-1.157577</td>\n",
       "    </tr>\n",
       "    <tr>\n",
       "      <th>2</th>\n",
       "      <td>-0.284370</td>\n",
       "      <td>-0.453810</td>\n",
       "      <td>1.217842</td>\n",
       "      <td>-0.865511</td>\n",
       "    </tr>\n",
       "    <tr>\n",
       "      <th>3</th>\n",
       "      <td>-2.923630</td>\n",
       "      <td>1.690471</td>\n",
       "      <td>1.520471</td>\n",
       "      <td>0.837107</td>\n",
       "    </tr>\n",
       "    <tr>\n",
       "      <th>4</th>\n",
       "      <td>1.030477</td>\n",
       "      <td>0.136249</td>\n",
       "      <td>-0.225044</td>\n",
       "      <td>-0.844523</td>\n",
       "    </tr>\n",
       "  </tbody>\n",
       "</table>\n",
       "</div>"
      ],
      "text/plain": [
       "        PC1       PC2       PC3       PC4\n",
       "0 -2.904290  0.095334 -0.715965  1.002240\n",
       "1  0.428622 -0.586392 -0.332486 -1.157577\n",
       "2 -0.284370 -0.453810  1.217842 -0.865511\n",
       "3 -2.923630  1.690471  1.520471  0.837107\n",
       "4  1.030477  0.136249 -0.225044 -0.844523"
      ]
     },
     "execution_count": 57,
     "metadata": {},
     "output_type": "execute_result"
    }
   ],
   "source": [
    "#Removing the cluster ID added as part of kmeans for the dataframe\n",
    "help_pca_h =  help_pca_h.iloc[:, 0:4]\n",
    "help_pca_h.head()"
   ]
  },
  {
   "cell_type": "code",
   "execution_count": 58,
   "metadata": {},
   "outputs": [
    {
     "data": {
      "text/plain": [
       "array([1, 2, 3, 1, 2, 3, 3, 0, 0, 3, 2, 2, 3, 2, 2, 0, 2, 1, 2, 3, 2, 1,\n",
       "       3, 0, 2, 1, 1, 2, 1, 0, 2, 1, 1, 3, 3, 3, 1, 1, 1, 2, 1, 2, 0, 2,\n",
       "       0, 3, 3, 3, 2, 1, 1, 2, 2, 0, 0, 1, 1, 2, 0, 1, 0, 2, 3, 1, 1, 2,\n",
       "       1, 2, 0, 3, 3, 3, 1, 0, 0, 0, 3, 0, 2, 3, 1, 1, 0, 2, 1, 2, 2, 1,\n",
       "       1, 3, 2, 0, 2, 1, 1, 2, 2, 1, 0, 1, 2, 1, 2, 3, 2, 3, 1, 3, 1, 3,\n",
       "       0, 0, 1, 1, 0, 3, 1, 2, 2, 3, 3, 2, 0, 0, 3, 3, 1, 2, 3, 1, 2, 2,\n",
       "       1, 0, 2, 0, 1, 1, 2, 0, 3, 2, 1, 2, 0, 0, 3, 1, 2, 1, 1, 3, 2, 3,\n",
       "       2, 1, 2, 0, 0, 0, 3, 3, 2, 3, 2, 1, 1], dtype=int64)"
      ]
     },
     "execution_count": 58,
     "metadata": {},
     "output_type": "execute_result"
    }
   ],
   "source": [
    "#Fitting hierarchical clustering\n",
    "from sklearn.cluster import AgglomerativeClustering\n",
    "hc = AgglomerativeClustering(n_clusters = 4, affinity='euclidean', linkage= 'ward')\n",
    "help_hier1 = hc.fit_predict(help_pca)\n",
    "help_hier1"
   ]
  },
  {
   "cell_type": "code",
   "execution_count": 63,
   "metadata": {},
   "outputs": [
    {
     "data": {
      "image/png": "[encoded data removed]",
      "text/plain": [
       "<Figure size 1080x576 with 1 Axes>"
      ]
     },
     "metadata": {
      "needs_background": "light"
     },
     "output_type": "display_data"
    }
   ],
   "source": [
    "#Scatter plot for clusters formed\n",
    "plt.scatter(help_pca.iloc[:,0],help_pca.iloc[:,1], c=help_hier1, cmap='rainbow') \n",
    "plt.rcParams['figure.figsize']=(10,5)"
   ]
  },
  {
   "cell_type": "code",
   "execution_count": 64,
   "metadata": {},
   "outputs": [
    {
     "data": {
      "text/html": [
       "<div>\n",
       "<style scoped>\n",
       "    .dataframe tbody tr th:only-of-type {\n",
       "        vertical-align: middle;\n",
       "    }\n",
       "\n",
       "    .dataframe tbody tr th {\n",
       "        vertical-align: top;\n",
       "    }\n",
       "\n",
       "    .dataframe thead th {\n",
       "        text-align: right;\n",
       "    }\n",
       "</style>\n",
       "<table border=\"1\" class=\"dataframe\">\n",
       "  <thead>\n",
       "    <tr style=\"text-align: right;\">\n",
       "      <th></th>\n",
       "      <th>PC1</th>\n",
       "      <th>PC2</th>\n",
       "      <th>PC3</th>\n",
       "      <th>PC4</th>\n",
       "      <th>cluster ID</th>\n",
       "    </tr>\n",
       "  </thead>\n",
       "  <tbody>\n",
       "    <tr>\n",
       "      <th>0</th>\n",
       "      <td>-2.904290</td>\n",
       "      <td>0.095334</td>\n",
       "      <td>-0.715965</td>\n",
       "      <td>1.002240</td>\n",
       "      <td>1</td>\n",
       "    </tr>\n",
       "    <tr>\n",
       "      <th>1</th>\n",
       "      <td>0.428622</td>\n",
       "      <td>-0.586392</td>\n",
       "      <td>-0.332486</td>\n",
       "      <td>-1.157577</td>\n",
       "      <td>2</td>\n",
       "    </tr>\n",
       "    <tr>\n",
       "      <th>2</th>\n",
       "      <td>-0.284370</td>\n",
       "      <td>-0.453810</td>\n",
       "      <td>1.217842</td>\n",
       "      <td>-0.865511</td>\n",
       "      <td>3</td>\n",
       "    </tr>\n",
       "    <tr>\n",
       "      <th>3</th>\n",
       "      <td>-2.923630</td>\n",
       "      <td>1.690471</td>\n",
       "      <td>1.520471</td>\n",
       "      <td>0.837107</td>\n",
       "      <td>1</td>\n",
       "    </tr>\n",
       "    <tr>\n",
       "      <th>4</th>\n",
       "      <td>1.030477</td>\n",
       "      <td>0.136249</td>\n",
       "      <td>-0.225044</td>\n",
       "      <td>-0.844523</td>\n",
       "      <td>2</td>\n",
       "    </tr>\n",
       "  </tbody>\n",
       "</table>\n",
       "</div>"
      ],
      "text/plain": [
       "        PC1       PC2       PC3       PC4  cluster ID\n",
       "0 -2.904290  0.095334 -0.715965  1.002240           1\n",
       "1  0.428622 -0.586392 -0.332486 -1.157577           2\n",
       "2 -0.284370 -0.453810  1.217842 -0.865511           3\n",
       "3 -2.923630  1.690471  1.520471  0.837107           1\n",
       "4  1.030477  0.136249 -0.225044 -0.844523           2"
      ]
     },
     "execution_count": 64,
     "metadata": {},
     "output_type": "execute_result"
    }
   ],
   "source": [
    "#Adding cluster ID column generated as part of hierarchical clustering to PCA dataframe\n",
    "help_hier1=pd.DataFrame(help_hier1, columns=['cluster ID']) \n",
    "help_pca_hc = pd.concat([help_pca_h, help_hier1], axis=1)\n",
    "help_pca_hc = help_pca_hc.iloc[:, 0:5]\n",
    "help_pca_hc.head()"
   ]
  },
  {
   "cell_type": "code",
   "execution_count": 65,
   "metadata": {},
   "outputs": [
    {
     "data": {
      "text/html": [
       "<div>\n",
       "<style scoped>\n",
       "    .dataframe tbody tr th:only-of-type {\n",
       "        vertical-align: middle;\n",
       "    }\n",
       "\n",
       "    .dataframe tbody tr th {\n",
       "        vertical-align: top;\n",
       "    }\n",
       "\n",
       "    .dataframe thead th {\n",
       "        text-align: right;\n",
       "    }\n",
       "</style>\n",
       "<table border=\"1\" class=\"dataframe\">\n",
       "  <thead>\n",
       "    <tr style=\"text-align: right;\">\n",
       "      <th></th>\n",
       "      <th>country</th>\n",
       "      <th>PC1</th>\n",
       "      <th>PC2</th>\n",
       "      <th>PC3</th>\n",
       "      <th>PC4</th>\n",
       "      <th>cluster ID</th>\n",
       "    </tr>\n",
       "  </thead>\n",
       "  <tbody>\n",
       "    <tr>\n",
       "      <th>0</th>\n",
       "      <td>Afghanistan</td>\n",
       "      <td>-2.904290</td>\n",
       "      <td>0.095334</td>\n",
       "      <td>-0.715965</td>\n",
       "      <td>1.002240</td>\n",
       "      <td>1</td>\n",
       "    </tr>\n",
       "    <tr>\n",
       "      <th>1</th>\n",
       "      <td>Albania</td>\n",
       "      <td>0.428622</td>\n",
       "      <td>-0.586392</td>\n",
       "      <td>-0.332486</td>\n",
       "      <td>-1.157577</td>\n",
       "      <td>2</td>\n",
       "    </tr>\n",
       "    <tr>\n",
       "      <th>2</th>\n",
       "      <td>Algeria</td>\n",
       "      <td>-0.284370</td>\n",
       "      <td>-0.453810</td>\n",
       "      <td>1.217842</td>\n",
       "      <td>-0.865511</td>\n",
       "      <td>3</td>\n",
       "    </tr>\n",
       "    <tr>\n",
       "      <th>3</th>\n",
       "      <td>Angola</td>\n",
       "      <td>-2.923630</td>\n",
       "      <td>1.690471</td>\n",
       "      <td>1.520471</td>\n",
       "      <td>0.837107</td>\n",
       "      <td>1</td>\n",
       "    </tr>\n",
       "    <tr>\n",
       "      <th>4</th>\n",
       "      <td>Antigua and Barbuda</td>\n",
       "      <td>1.030477</td>\n",
       "      <td>0.136249</td>\n",
       "      <td>-0.225044</td>\n",
       "      <td>-0.844523</td>\n",
       "      <td>2</td>\n",
       "    </tr>\n",
       "  </tbody>\n",
       "</table>\n",
       "</div>"
      ],
      "text/plain": [
       "               country       PC1       PC2       PC3       PC4  cluster ID\n",
       "0          Afghanistan -2.904290  0.095334 -0.715965  1.002240           1\n",
       "1              Albania  0.428622 -0.586392 -0.332486 -1.157577           2\n",
       "2              Algeria -0.284370 -0.453810  1.217842 -0.865511           3\n",
       "3               Angola -2.923630  1.690471  1.520471  0.837107           1\n",
       "4  Antigua and Barbuda  1.030477  0.136249 -0.225044 -0.844523           2"
      ]
     },
     "execution_count": 65,
     "metadata": {},
     "output_type": "execute_result"
    }
   ],
   "source": [
    "#Adding country column to above dataframe\n",
    "help_hier_final = help_pca_hc\n",
    "help_hier_final = pd.concat([y, help_hier_final], axis=1, join='outer', join_axes=None, ignore_index=False)\n",
    "help_hier_final.head()"
   ]
  },
  {
   "cell_type": "code",
   "execution_count": 66,
   "metadata": {},
   "outputs": [
    {
     "data": {
      "text/html": [
       "<div>\n",
       "<style scoped>\n",
       "    .dataframe tbody tr th:only-of-type {\n",
       "        vertical-align: middle;\n",
       "    }\n",
       "\n",
       "    .dataframe tbody tr th {\n",
       "        vertical-align: top;\n",
       "    }\n",
       "\n",
       "    .dataframe thead th {\n",
       "        text-align: right;\n",
       "    }\n",
       "</style>\n",
       "<table border=\"1\" class=\"dataframe\">\n",
       "  <thead>\n",
       "    <tr style=\"text-align: right;\">\n",
       "      <th></th>\n",
       "      <th>country</th>\n",
       "      <th>cluster ID</th>\n",
       "      <th>child_mort</th>\n",
       "      <th>exports</th>\n",
       "      <th>health</th>\n",
       "      <th>imports</th>\n",
       "      <th>income</th>\n",
       "      <th>inflation</th>\n",
       "      <th>life_expec</th>\n",
       "      <th>total_fer</th>\n",
       "      <th>gdpp</th>\n",
       "    </tr>\n",
       "  </thead>\n",
       "  <tbody>\n",
       "    <tr>\n",
       "      <th>0</th>\n",
       "      <td>Afghanistan</td>\n",
       "      <td>1</td>\n",
       "      <td>90.2</td>\n",
       "      <td>10.0</td>\n",
       "      <td>7.58</td>\n",
       "      <td>44.9</td>\n",
       "      <td>1610</td>\n",
       "      <td>9.44</td>\n",
       "      <td>56.2</td>\n",
       "      <td>5.82</td>\n",
       "      <td>553</td>\n",
       "    </tr>\n",
       "    <tr>\n",
       "      <th>1</th>\n",
       "      <td>Albania</td>\n",
       "      <td>2</td>\n",
       "      <td>16.6</td>\n",
       "      <td>28.0</td>\n",
       "      <td>6.55</td>\n",
       "      <td>48.6</td>\n",
       "      <td>9930</td>\n",
       "      <td>4.49</td>\n",
       "      <td>76.3</td>\n",
       "      <td>1.65</td>\n",
       "      <td>4090</td>\n",
       "    </tr>\n",
       "    <tr>\n",
       "      <th>2</th>\n",
       "      <td>Algeria</td>\n",
       "      <td>3</td>\n",
       "      <td>27.3</td>\n",
       "      <td>38.4</td>\n",
       "      <td>4.17</td>\n",
       "      <td>31.4</td>\n",
       "      <td>12900</td>\n",
       "      <td>16.10</td>\n",
       "      <td>76.5</td>\n",
       "      <td>2.89</td>\n",
       "      <td>4460</td>\n",
       "    </tr>\n",
       "    <tr>\n",
       "      <th>3</th>\n",
       "      <td>Angola</td>\n",
       "      <td>1</td>\n",
       "      <td>119.0</td>\n",
       "      <td>62.3</td>\n",
       "      <td>2.85</td>\n",
       "      <td>42.9</td>\n",
       "      <td>5900</td>\n",
       "      <td>22.40</td>\n",
       "      <td>60.1</td>\n",
       "      <td>6.16</td>\n",
       "      <td>3530</td>\n",
       "    </tr>\n",
       "    <tr>\n",
       "      <th>4</th>\n",
       "      <td>Antigua and Barbuda</td>\n",
       "      <td>2</td>\n",
       "      <td>10.3</td>\n",
       "      <td>45.5</td>\n",
       "      <td>6.03</td>\n",
       "      <td>58.9</td>\n",
       "      <td>19100</td>\n",
       "      <td>1.44</td>\n",
       "      <td>76.8</td>\n",
       "      <td>2.13</td>\n",
       "      <td>12200</td>\n",
       "    </tr>\n",
       "  </tbody>\n",
       "</table>\n",
       "</div>"
      ],
      "text/plain": [
       "               country  cluster ID  child_mort  exports  health  imports  \\\n",
       "0          Afghanistan           1        90.2     10.0    7.58     44.9   \n",
       "1              Albania           2        16.6     28.0    6.55     48.6   \n",
       "2              Algeria           3        27.3     38.4    4.17     31.4   \n",
       "3               Angola           1       119.0     62.3    2.85     42.9   \n",
       "4  Antigua and Barbuda           2        10.3     45.5    6.03     58.9   \n",
       "\n",
       "   income  inflation  life_expec  total_fer   gdpp  \n",
       "0    1610       9.44        56.2       5.82    553  \n",
       "1    9930       4.49        76.3       1.65   4090  \n",
       "2   12900      16.10        76.5       2.89   4460  \n",
       "3    5900      22.40        60.1       6.16   3530  \n",
       "4   19100       1.44        76.8       2.13  12200  "
      ]
     },
     "execution_count": 66,
     "metadata": {},
     "output_type": "execute_result"
    }
   ],
   "source": [
    "#Removing PC's from help_hier_final dataframe and adding original socio-economic data to help_hier_final dataframe\n",
    "help_hier_final = help_hier_final[['country', 'cluster ID']].merge(help, on = 'country')\n",
    "help_hier_final.head()"
   ]
  },
  {
   "cell_type": "code",
   "execution_count": 67,
   "metadata": {},
   "outputs": [],
   "source": [
    "#Calculating mean of each variable grouped by 'cluster ID'\n",
    "help_hier_child_mort = pd.DataFrame(help_hier_final.groupby([\"cluster ID\"]).child_mort.mean())\n",
    "help_hier_exports = pd.DataFrame(help_hier_final.groupby([\"cluster ID\"]).exports.mean())\n",
    "help_hier_health = pd.DataFrame(help_hier_final.groupby([\"cluster ID\"]).health.mean())\n",
    "help_hier_imports = pd.DataFrame(help_hier_final.groupby([\"cluster ID\"]).imports.mean())\n",
    "help_hier_income = pd.DataFrame(help_hier_final.groupby([\"cluster ID\"]).income.mean())\n",
    "help_hier_inflation = pd.DataFrame(help_hier_final.groupby([\"cluster ID\"]).inflation.mean())\n",
    "help_hier_life_expec = pd.DataFrame(help_hier_final.groupby([\"cluster ID\"]).life_expec.mean())\n",
    "help_hier_total_fer = pd.DataFrame(help_hier_final.groupby([\"cluster ID\"]).total_fer.mean())\n",
    "help_hier_gdpp = pd.DataFrame(help_hier_final.groupby([\"cluster ID\"]).gdpp.mean())"
   ]
  },
  {
   "cell_type": "code",
   "execution_count": 68,
   "metadata": {},
   "outputs": [
    {
     "data": {
      "text/html": [
       "<div>\n",
       "<style scoped>\n",
       "    .dataframe tbody tr th:only-of-type {\n",
       "        vertical-align: middle;\n",
       "    }\n",
       "\n",
       "    .dataframe tbody tr th {\n",
       "        vertical-align: top;\n",
       "    }\n",
       "\n",
       "    .dataframe thead th {\n",
       "        text-align: right;\n",
       "    }\n",
       "</style>\n",
       "<table border=\"1\" class=\"dataframe\">\n",
       "  <thead>\n",
       "    <tr style=\"text-align: right;\">\n",
       "      <th></th>\n",
       "      <th>clusterID</th>\n",
       "      <th>child_mort_mean</th>\n",
       "      <th>exports_mean</th>\n",
       "      <th>health_mean</th>\n",
       "      <th>imports_mean</th>\n",
       "      <th>income_mean</th>\n",
       "      <th>inflation_mean</th>\n",
       "      <th>life_expec_mean</th>\n",
       "      <th>total_fer_mean</th>\n",
       "      <th>gdpp_mean</th>\n",
       "    </tr>\n",
       "  </thead>\n",
       "  <tbody>\n",
       "    <tr>\n",
       "      <th>0</th>\n",
       "      <td>0</td>\n",
       "      <td>4.903125</td>\n",
       "      <td>57.918750</td>\n",
       "      <td>9.015937</td>\n",
       "      <td>50.496875</td>\n",
       "      <td>47475.000000</td>\n",
       "      <td>2.703437</td>\n",
       "      <td>80.484375</td>\n",
       "      <td>1.774063</td>\n",
       "      <td>45331.250000</td>\n",
       "    </tr>\n",
       "    <tr>\n",
       "      <th>1</th>\n",
       "      <td>1</td>\n",
       "      <td>90.557143</td>\n",
       "      <td>29.447143</td>\n",
       "      <td>6.592041</td>\n",
       "      <td>43.906122</td>\n",
       "      <td>3885.979592</td>\n",
       "      <td>11.745612</td>\n",
       "      <td>59.365306</td>\n",
       "      <td>4.960816</td>\n",
       "      <td>1928.612245</td>\n",
       "    </tr>\n",
       "    <tr>\n",
       "      <th>2</th>\n",
       "      <td>2</td>\n",
       "      <td>16.555102</td>\n",
       "      <td>50.948980</td>\n",
       "      <td>6.756327</td>\n",
       "      <td>59.548980</td>\n",
       "      <td>13746.938776</td>\n",
       "      <td>3.815204</td>\n",
       "      <td>73.591837</td>\n",
       "      <td>2.067551</td>\n",
       "      <td>7954.000000</td>\n",
       "    </tr>\n",
       "    <tr>\n",
       "      <th>3</th>\n",
       "      <td>3</td>\n",
       "      <td>26.640541</td>\n",
       "      <td>28.983486</td>\n",
       "      <td>5.287568</td>\n",
       "      <td>30.958538</td>\n",
       "      <td>12971.621622</td>\n",
       "      <td>12.177730</td>\n",
       "      <td>72.767568</td>\n",
       "      <td>2.463514</td>\n",
       "      <td>6220.702703</td>\n",
       "    </tr>\n",
       "  </tbody>\n",
       "</table>\n",
       "</div>"
      ],
      "text/plain": [
       "   clusterID  child_mort_mean  exports_mean  health_mean  imports_mean  \\\n",
       "0          0         4.903125     57.918750     9.015937     50.496875   \n",
       "1          1        90.557143     29.447143     6.592041     43.906122   \n",
       "2          2        16.555102     50.948980     6.756327     59.548980   \n",
       "3          3        26.640541     28.983486     5.287568     30.958538   \n",
       "\n",
       "    income_mean  inflation_mean  life_expec_mean  total_fer_mean     gdpp_mean  \n",
       "0  47475.000000        2.703437        80.484375        1.774063  45331.250000  \n",
       "1   3885.979592       11.745612        59.365306        4.960816   1928.612245  \n",
       "2  13746.938776        3.815204        73.591837        2.067551   7954.000000  \n",
       "3  12971.621622       12.177730        72.767568        2.463514   6220.702703  "
      ]
     },
     "execution_count": 68,
     "metadata": {},
     "output_type": "execute_result"
    }
   ],
   "source": [
    "#Creating a dataframe from the mean data\n",
    "help_hier_clust= pd.concat([pd.Series(list(range(0,4))), help_hier_child_mort,help_hier_exports, help_hier_health, \n",
    "                        help_hier_imports,help_hier_income, help_hier_inflation, help_hier_life_expec,\n",
    "                        help_hier_total_fer,help_hier_gdpp], axis=1)\n",
    "help_hier_clust.columns = [\"clusterID\", \"child_mort_mean\", \"exports_mean\", \"health_mean\", \"imports_mean\", \"income_mean\", \n",
    "                           \"inflation_mean\",\"life_expec_mean\", \"total_fer_mean\", \"gdpp_mean\"]\n",
    "help_hier_clust"
   ]
  },
  {
   "cell_type": "code",
   "execution_count": 69,
   "metadata": {},
   "outputs": [
    {
     "data": {
      "image/png": "[encoded data removed]",
      "text/plain": [
       "<Figure size 1440x1080 with 9 Axes>"
      ]
     },
     "metadata": {
      "needs_background": "light"
     },
     "output_type": "display_data"
    }
   ],
   "source": [
    "#plotting bar chart \n",
    "fig, axs = plt.subplots(3,3,figsize = (20,15))\n",
    "\n",
    "#Cluster analysis on Child_mort\n",
    "plt1 = sns.barplot(x=help_hier_clust.clusterID, y=help_hier_clust.child_mort_mean, ax = axs[0,0])\n",
    "plt1.set(title = 'Cluster analysis on Child_mort', xlabel = '', ylabel= 'Mean_child_mort')\n",
    "\n",
    "#Cluster analysis on Exports\n",
    "plt2 = sns.barplot(x=help_hier_clust.clusterID, y=help_hier_clust.exports_mean, ax = axs[0,1])\n",
    "plt2.set(title = 'Cluster analysis on Exports', xlabel = '', ylabel= 'Mean_exports')\n",
    "\n",
    "#Cluster analysis on Health_Spending\n",
    "plt3 = sns.barplot(x=help_hier_clust.clusterID, y=help_hier_clust.health_mean, ax = axs[0,2])\n",
    "plt3.set(title = 'Cluster analysis on Health_Spending', xlabel = '', ylabel= 'Mean_health_spending')\n",
    "\n",
    "#Cluster analysis on Imports\n",
    "plt4 = sns.barplot(x=help_hier_clust.clusterID, y=help_hier_clust.imports_mean, ax = axs[1,0])\n",
    "plt4.set(title = 'Cluster analysis on Imports', xlabel = '', ylabel= 'Mean_imports')\n",
    "\n",
    "#Cluster analysis on Income\n",
    "plt5 = sns.barplot(x=help_hier_clust.clusterID, y=help_hier_clust.income_mean, ax = axs[1,1])\n",
    "plt5.set(title = 'Cluster analysis on Income', xlabel = '', ylabel= 'Mean_income')\n",
    "\n",
    "#Cluster analysis on Life_Exp\n",
    "plt6 = sns.barplot(x=help_hier_clust.clusterID, y=help_hier_clust.life_expec_mean, ax = axs[1,2])\n",
    "plt6.set(title = 'Cluster analysis on Life_Exp', xlabel = '', ylabel= 'Mean_life_exp')\n",
    "\n",
    "#Cluster analysis on Inflation\n",
    "plt7= sns.barplot(x=help_hier_clust.clusterID, y=help_hier_clust.inflation_mean, ax = axs[2,0])\n",
    "plt7.set(title = 'Cluster analysis on Inflation', xlabel = '', ylabel= 'Mean_inflation')\n",
    "\n",
    "#Cluster analysis on Fertility\n",
    "plt8 = sns.barplot(x=help_hier_clust.clusterID, y=help_hier_clust.total_fer_mean, ax = axs[2,1])\n",
    "plt8.set(title = 'Cluster analysis on Fertility', xlabel = '', ylabel= 'Mean_total_fert')\n",
    "\n",
    "#Cluster analysis on gdpp\n",
    "plt9 = sns.barplot(x=help_hier_clust.clusterID, y=help_hier_clust.gdpp_mean, ax = axs[2,2])\n",
    "plt9.set(title = 'Cluster analysis on gdpp', xlabel = '', ylabel= 'Mean_gdpp')\n",
    "\n",
    "plt.tight_layout()\n",
    "plt.show()"
   ]
  },
  {
   "cell_type": "code",
   "execution_count": 70,
   "metadata": {},
   "outputs": [
    {
     "data": {
      "text/plain": [
       "array(['Afghanistan', 'Angola', 'Benin', 'Botswana', 'Burkina Faso',\n",
       "       'Burundi', 'Cameroon', 'Central African Republic', 'Chad',\n",
       "       'Comoros', 'Congo, Dem. Rep.', 'Congo, Rep.', \"Cote d'Ivoire\",\n",
       "       'Equatorial Guinea', 'Eritrea', 'Gabon', 'Gambia', 'Ghana',\n",
       "       'Guinea', 'Guinea-Bissau', 'Haiti', 'Iraq', 'Kenya', 'Kiribati',\n",
       "       'Lao', 'Lesotho', 'Liberia', 'Madagascar', 'Malawi', 'Mali',\n",
       "       'Mauritania', 'Micronesia, Fed. Sts.', 'Mozambique', 'Namibia',\n",
       "       'Niger', 'Nigeria', 'Pakistan', 'Rwanda', 'Senegal',\n",
       "       'Sierra Leone', 'Solomon Islands', 'South Africa', 'Sudan',\n",
       "       'Tanzania', 'Timor-Leste', 'Togo', 'Uganda', 'Yemen', 'Zambia'],\n",
       "      dtype=object)"
      ]
     },
     "execution_count": 70,
     "metadata": {},
     "output_type": "execute_result"
    }
   ],
   "source": [
    "#From above plot it is evident that custer 1 is the cluster which needs aid at the most. Let's find list of countries\n",
    "help_hier_final[help_hier_final['cluster ID'] == 1].country.values"
   ]
  },
  {
   "cell_type": "markdown",
   "metadata": {},
   "source": [
    "#### Above is the list of underdeveloped countries which are need of aid at most"
   ]
  },
  {
   "cell_type": "markdown",
   "metadata": {},
   "source": [
    "#### To find the Top 5 countries within cluster 1 we will consider 'child_mort', 'inflation', & 'total_fer' as factors to select top 5 countries as if the the countries which have high sum of these 3 columns can be considered as top 5."
   ]
  },
  {
   "cell_type": "code",
   "execution_count": 71,
   "metadata": {},
   "outputs": [
    {
     "data": {
      "text/html": [
       "<div>\n",
       "<style scoped>\n",
       "    .dataframe tbody tr th:only-of-type {\n",
       "        vertical-align: middle;\n",
       "    }\n",
       "\n",
       "    .dataframe tbody tr th {\n",
       "        vertical-align: top;\n",
       "    }\n",
       "\n",
       "    .dataframe thead th {\n",
       "        text-align: right;\n",
       "    }\n",
       "</style>\n",
       "<table border=\"1\" class=\"dataframe\">\n",
       "  <thead>\n",
       "    <tr style=\"text-align: right;\">\n",
       "      <th></th>\n",
       "      <th>country</th>\n",
       "      <th>cluster ID</th>\n",
       "      <th>child_mort</th>\n",
       "      <th>exports</th>\n",
       "      <th>health</th>\n",
       "      <th>imports</th>\n",
       "      <th>income</th>\n",
       "      <th>inflation</th>\n",
       "      <th>life_expec</th>\n",
       "      <th>total_fer</th>\n",
       "      <th>gdpp</th>\n",
       "      <th>sum</th>\n",
       "    </tr>\n",
       "  </thead>\n",
       "  <tbody>\n",
       "    <tr>\n",
       "      <th>113</th>\n",
       "      <td>Nigeria</td>\n",
       "      <td>1</td>\n",
       "      <td>130.0</td>\n",
       "      <td>25.3</td>\n",
       "      <td>5.07</td>\n",
       "      <td>17.4</td>\n",
       "      <td>5150</td>\n",
       "      <td>104.00</td>\n",
       "      <td>60.5</td>\n",
       "      <td>5.84</td>\n",
       "      <td>2330</td>\n",
       "      <td>239.84</td>\n",
       "    </tr>\n",
       "    <tr>\n",
       "      <th>66</th>\n",
       "      <td>Haiti</td>\n",
       "      <td>1</td>\n",
       "      <td>208.0</td>\n",
       "      <td>15.3</td>\n",
       "      <td>6.91</td>\n",
       "      <td>64.7</td>\n",
       "      <td>1500</td>\n",
       "      <td>5.45</td>\n",
       "      <td>32.1</td>\n",
       "      <td>3.33</td>\n",
       "      <td>662</td>\n",
       "      <td>216.78</td>\n",
       "    </tr>\n",
       "    <tr>\n",
       "      <th>132</th>\n",
       "      <td>Sierra Leone</td>\n",
       "      <td>1</td>\n",
       "      <td>160.0</td>\n",
       "      <td>16.8</td>\n",
       "      <td>13.10</td>\n",
       "      <td>34.5</td>\n",
       "      <td>1220</td>\n",
       "      <td>17.20</td>\n",
       "      <td>55.0</td>\n",
       "      <td>5.20</td>\n",
       "      <td>399</td>\n",
       "      <td>182.40</td>\n",
       "    </tr>\n",
       "    <tr>\n",
       "      <th>32</th>\n",
       "      <td>Chad</td>\n",
       "      <td>1</td>\n",
       "      <td>150.0</td>\n",
       "      <td>36.8</td>\n",
       "      <td>4.53</td>\n",
       "      <td>43.5</td>\n",
       "      <td>1930</td>\n",
       "      <td>6.39</td>\n",
       "      <td>56.5</td>\n",
       "      <td>6.59</td>\n",
       "      <td>897</td>\n",
       "      <td>162.98</td>\n",
       "    </tr>\n",
       "    <tr>\n",
       "      <th>31</th>\n",
       "      <td>Central African Republic</td>\n",
       "      <td>1</td>\n",
       "      <td>149.0</td>\n",
       "      <td>11.8</td>\n",
       "      <td>3.98</td>\n",
       "      <td>26.5</td>\n",
       "      <td>888</td>\n",
       "      <td>2.01</td>\n",
       "      <td>47.5</td>\n",
       "      <td>5.21</td>\n",
       "      <td>446</td>\n",
       "      <td>156.22</td>\n",
       "    </tr>\n",
       "    <tr>\n",
       "      <th>97</th>\n",
       "      <td>Mali</td>\n",
       "      <td>1</td>\n",
       "      <td>137.0</td>\n",
       "      <td>22.8</td>\n",
       "      <td>4.98</td>\n",
       "      <td>35.1</td>\n",
       "      <td>1870</td>\n",
       "      <td>4.37</td>\n",
       "      <td>59.5</td>\n",
       "      <td>6.55</td>\n",
       "      <td>708</td>\n",
       "      <td>147.92</td>\n",
       "    </tr>\n",
       "    <tr>\n",
       "      <th>3</th>\n",
       "      <td>Angola</td>\n",
       "      <td>1</td>\n",
       "      <td>119.0</td>\n",
       "      <td>62.3</td>\n",
       "      <td>2.85</td>\n",
       "      <td>42.9</td>\n",
       "      <td>5900</td>\n",
       "      <td>22.40</td>\n",
       "      <td>60.1</td>\n",
       "      <td>6.16</td>\n",
       "      <td>3530</td>\n",
       "      <td>147.56</td>\n",
       "    </tr>\n",
       "    <tr>\n",
       "      <th>37</th>\n",
       "      <td>Congo, Dem. Rep.</td>\n",
       "      <td>1</td>\n",
       "      <td>116.0</td>\n",
       "      <td>41.1</td>\n",
       "      <td>7.91</td>\n",
       "      <td>49.6</td>\n",
       "      <td>609</td>\n",
       "      <td>20.80</td>\n",
       "      <td>57.5</td>\n",
       "      <td>6.54</td>\n",
       "      <td>334</td>\n",
       "      <td>143.34</td>\n",
       "    </tr>\n",
       "    <tr>\n",
       "      <th>49</th>\n",
       "      <td>Equatorial Guinea</td>\n",
       "      <td>1</td>\n",
       "      <td>111.0</td>\n",
       "      <td>85.8</td>\n",
       "      <td>4.48</td>\n",
       "      <td>58.9</td>\n",
       "      <td>33700</td>\n",
       "      <td>24.90</td>\n",
       "      <td>60.9</td>\n",
       "      <td>5.21</td>\n",
       "      <td>17100</td>\n",
       "      <td>141.11</td>\n",
       "    </tr>\n",
       "    <tr>\n",
       "      <th>112</th>\n",
       "      <td>Niger</td>\n",
       "      <td>1</td>\n",
       "      <td>123.0</td>\n",
       "      <td>22.2</td>\n",
       "      <td>5.16</td>\n",
       "      <td>49.1</td>\n",
       "      <td>814</td>\n",
       "      <td>2.55</td>\n",
       "      <td>58.8</td>\n",
       "      <td>7.49</td>\n",
       "      <td>348</td>\n",
       "      <td>133.04</td>\n",
       "    </tr>\n",
       "  </tbody>\n",
       "</table>\n",
       "</div>"
      ],
      "text/plain": [
       "                      country  cluster ID  child_mort  exports  health  \\\n",
       "113                   Nigeria           1       130.0     25.3    5.07   \n",
       "66                      Haiti           1       208.0     15.3    6.91   \n",
       "132              Sierra Leone           1       160.0     16.8   13.10   \n",
       "32                       Chad           1       150.0     36.8    4.53   \n",
       "31   Central African Republic           1       149.0     11.8    3.98   \n",
       "97                       Mali           1       137.0     22.8    4.98   \n",
       "3                      Angola           1       119.0     62.3    2.85   \n",
       "37           Congo, Dem. Rep.           1       116.0     41.1    7.91   \n",
       "49          Equatorial Guinea           1       111.0     85.8    4.48   \n",
       "112                     Niger           1       123.0     22.2    5.16   \n",
       "\n",
       "     imports  income  inflation  life_expec  total_fer   gdpp     sum  \n",
       "113     17.4    5150     104.00        60.5       5.84   2330  239.84  \n",
       "66      64.7    1500       5.45        32.1       3.33    662  216.78  \n",
       "132     34.5    1220      17.20        55.0       5.20    399  182.40  \n",
       "32      43.5    1930       6.39        56.5       6.59    897  162.98  \n",
       "31      26.5     888       2.01        47.5       5.21    446  156.22  \n",
       "97      35.1    1870       4.37        59.5       6.55    708  147.92  \n",
       "3       42.9    5900      22.40        60.1       6.16   3530  147.56  \n",
       "37      49.6     609      20.80        57.5       6.54    334  143.34  \n",
       "49      58.9   33700      24.90        60.9       5.21  17100  141.11  \n",
       "112     49.1     814       2.55        58.8       7.49    348  133.04  "
      ]
     },
     "execution_count": 71,
     "metadata": {},
     "output_type": "execute_result"
    }
   ],
   "source": [
    "help_hier_top5 = help_hier_final[help_hier_final['cluster ID'] == 1]\n",
    "help_hier_top5['sum'] = help_hier_top5['child_mort'] + help_hier_top5['inflation'] + help_hier_top5['total_fer']\n",
    "\n",
    "help_hier_top5 = help_hier_top5.sort_values(by='sum', ascending=False)\n",
    "help_hier_top5.head(10)"
   ]
  },
  {
   "cell_type": "code",
   "execution_count": 72,
   "metadata": {},
   "outputs": [
    {
     "data": {
      "image/png": "[encoded data removed]",
      "text/plain": [
       "<Figure size 720x360 with 1 Axes>"
      ]
     },
     "metadata": {
      "needs_background": "light"
     },
     "output_type": "display_data"
    }
   ],
   "source": [
    "import matplotlib.pyplot as plt\n",
    "bar = sns.barplot(x=\"sum\", y=\"country\", data=help_hier_top5)\n",
    "plt.rcParams['figure.figsize']=(30,20)"
   ]
  },
  {
   "cell_type": "code",
   "execution_count": 73,
   "metadata": {},
   "outputs": [
    {
     "data": {
      "text/plain": [
       "<matplotlib.axes._subplots.AxesSubplot at 0x1a1b98c780>"
      ]
     },
     "execution_count": 73,
     "metadata": {},
     "output_type": "execute_result"
    },
    {
     "data": {
      "image/png": "[encoded data removed]",
      "text/plain": [
       "<Figure size 2160x1440 with 1 Axes>"
      ]
     },
     "metadata": {
      "needs_background": "light"
     },
     "output_type": "display_data"
    }
   ],
   "source": [
    "top5_hier = help_hier_top5.iloc[0:5]\n",
    "top5_hier_bar = sns.barplot(x=\"country\", y=\"sum\", data=top5_hier)\n",
    "top5_hier_bar"
   ]
  },
  {
   "cell_type": "code",
   "execution_count": 74,
   "metadata": {},
   "outputs": [
    {
     "data": {
      "text/plain": [
       "array(['Australia', 'Austria', 'Belgium', 'Brunei', 'Canada', 'Cyprus',\n",
       "       'Denmark', 'Finland', 'France', 'Germany', 'Greece', 'Iceland',\n",
       "       'Ireland', 'Israel', 'Italy', 'Japan', 'Kuwait', 'Luxembourg',\n",
       "       'Malta', 'Netherlands', 'New Zealand', 'Norway', 'Portugal',\n",
       "       'Qatar', 'Singapore', 'Slovenia', 'Spain', 'Sweden', 'Switzerland',\n",
       "       'United Arab Emirates', 'United Kingdom', 'United States'],\n",
       "      dtype=object)"
      ]
     },
     "execution_count": 74,
     "metadata": {},
     "output_type": "execute_result"
    }
   ],
   "source": [
    "help_hier_final[help_hier_final['cluster ID'] == 0].country.values"
   ]
  },
  {
   "cell_type": "markdown",
   "metadata": {},
   "source": [
    "#### Above is the list of developed countries which doesn't require financial aid"
   ]
  },
  {
   "cell_type": "code",
   "execution_count": null,
   "metadata": {},
   "outputs": [],
   "source": []
  }
 ],
 "metadata": {
  "kernelspec": {
   "display_name": "Python 3",
   "language": "python",
   "name": "python3"
  },
  "language_info": {
   "codemirror_mode": {
    "name": "ipython",
    "version": 3
   },
   "file_extension": ".py",
   "mimetype": "text/x-python",
   "name": "python",
   "nbconvert_exporter": "python",
   "pygments_lexer": "ipython3",
   "version": "3.7.1"
  }
 },
 "nbformat": 4,
 "nbformat_minor": 2
}
